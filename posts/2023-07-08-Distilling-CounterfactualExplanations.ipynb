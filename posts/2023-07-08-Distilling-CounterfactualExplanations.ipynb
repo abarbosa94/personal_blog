{
 "cells": [
  {
   "cell_type": "raw",
   "metadata": {},
   "source": [
    "---\n",
    "aliases:\n",
    "- /masters/knowledge-distill/xai/2023/07/08/Distilling-DiCE\n",
    "author: Andre Barbosa\n",
    "badges: true\n",
    "branch: main\n",
    "categories:\n",
    "- masters\n",
    "- knowledge-distill\n",
    "- xai\n",
    "date: '2023-07-08'\n",
    "description: Distilling Diverse Counterfactual Explanations\n",
    "hide: false\n",
    "hide_binder_badge: false\n",
    "hide_colab_badge: false\n",
    "output-file: 2023-07-08-annotated-diverse-cfe.html\n",
    "search_exclude: false\n",
    "title: Distilling Diverse Counterfactual Explanations\n",
    "toc: true\n",
    "bibliography: references.bib\n",
    "\n",
    "---\n"
   ]
  },
  {
   "attachments": {},
   "cell_type": "markdown",
   "metadata": {},
   "source": [
    "# Distilling Diverse Counterfactual Explanations"
   ]
  },
  {
   "attachments": {},
   "cell_type": "markdown",
   "metadata": {},
   "source": [
    "![](images/distill-dice/introduction.jpeg \"DiCE\")"
   ]
  },
  {
   "attachments": {},
   "cell_type": "markdown",
   "metadata": {},
   "source": [
    "# Introduction\n",
    "\n",
    "Continuing my series of post, this time I'll provide an introdutory elucidation of `Counterfactual Explanations`, an interest concept that goes in the same direction of model explanation, but it is different than feature attribution methods like [@LIMEPaper] and [@SHAPPaper].\n",
    "\n",
    "Simply speaking, according to authors from [@dice], suppose that someone who tried to get a loan but got turned down by the bank's computer system. Normally, the bank might tell them why, like \"you have a bad credit history\". But this doesn't give the person a clue about what they should do differently next time to get approved. Also, what the system flagged as most important might not even be something they can change, e.g. their `gender` or `race`. So, it's super crucial not only to know why you got rejected, but **also to see what changes could lead to a different result**. This way, people can figure out what actions they could've taken to swing the decision in their favor.\n",
    "\n",
    "This leads us to the definition of Counterfactual Explanations [@CounterFactualWatcher]. Using the loan example, these would show how the same person could have changed a few things to get approved for the loan. For instance, they might say \"if you earned $10,000 more, you'd have gotten the loan.\" Basically, these are \"what-if\" scenarios based on the model's results. A big plus of these counterfactual explanations is that they're always true to the original model since they're just a different take on the system's results. Plus, they can be easy for people to understand.\n",
    "\n"
   ]
  },
  {
   "attachments": {},
   "cell_type": "markdown",
   "metadata": {},
   "source": [
    "## The caveat\n",
    "\n",
    "Coming up with \"what-if\" scenarios that someone can actually do is tough. Let's go back to the loan example. A counterfactual explanation might suggest \"lower your rent\", but it doesn't give other options or consider how hard different changes might be to pull off. That's why we need a variety of counterfactual examples to help people wrap their heads around these complex machine learning models. Ideally, these examples should offer a range of suggestions and think about how doable those changes are. \n",
    "\n",
    ":::{.callout-important}\n",
    "\n",
    "Rules should make sense with real-world rules, like, you can't just downgrade your degree or change your race.\n",
    "\n",
    ":::\n",
    "\n",
    "### But what is wrong with Feature Importance methods?\n",
    "\n",
    "Models like those mentioned in the [@LIMEPaper] and [@SHAPpaper] papers are seen as \"Feature Importance\" methods. They explain things by ranking the most relevant features. But here's the thing, these explanations aren't totally honest about what's going on with the machine learning models. As there is always this balancing act between being true to the model and making it understandable to humans when you're explaining a complex model, an explanation methods that use simpler stand-in models are always approximatios the real model to some extent. Therefore, one big issue with this is that because the explanations come from these simpler models, there's no guarantee that they're actually representing the original model accurately.\n",
    "\n",
    "## Approaching the solution\n",
    "\n",
    "Extending the work from [@CounterFactualWatcher], [@dice] authors set up an optimization problem that looks at both the diversity of the \"what-if\" scenarios and how close they are to the original data, coming up with a method that generates a bunch of \"what-if\" scenarios. Also, they provide a set of interesting metrics for evaluating counterfactual explanations, which I believe is worthwhile to explore :)"
   ]
  },
  {
   "attachments": {},
   "cell_type": "markdown",
   "metadata": {},
   "source": [
    "## Going Formal\n",
    "\n",
    "So, what we're working with here is a trained machine learning model, $f$, and a specific case, $x$. Our aim is to generate a group of $k$ counterfactuals, {$c_1, c_2, \\cdots{. . .}, c_k$}, that would lead to a different outcome than $x$. Both $x$ and all the CF examples (${c_1, c_2, \\cdots{. . .} , c_k}$) are $d\\text{-dimensional}$. Throughout this paper, we're assuming that the machine learning model is differentiable and static (it doesn't change over time), and that the output is **binary**.\n",
    "\n",
    "Our goal is to generate an actionable counterfactual set, that is, the user should be able to find CF examples that they can act upon. To do so, we need individual CF examples to be feasible with respect to the original input, but also need diversity among the generated counterfactuals to provide different ways of changing the outcome class."
   ]
  },
  {
   "attachments": {},
   "cell_type": "markdown",
   "metadata": {},
   "source": [
    "### Counterfactuals Generation Engine\n",
    "\n",
    "\n",
    "Let's say you have an input feature $x$ and an output from an ML model $f$. A counterfactual explanation is a tweak to the input that causes a different output $y$ from the same model. Specifically, Wachter and his team came up with this idea:\n",
    "\n",
    "$$\n",
    "\\begin{aligned}\n",
    "x_{cf} = \\arg \\min_{x_{cf}} \\quad & yloss(f(x_{cf}), y) + |x - x_{cf}| \\\\\n",
    "\\text{s.t.} \\quad & f(x_{cf}) = y', y' \\neq y\n",
    "\\end{aligned}\n",
    "$$\n",
    "\n",
    "\n",
    "In plain terms, the first component (_yloss_) drives the counterfactual $x_{cf}$ towards a prediction that's different from the original data point. Meanwhile, the second component ensures the counterfactual stays relatively close to the original data point.\n",
    "\n",
    "For simplicity, for now on, lets assume that $x_{cf}=c$"
   ]
  },
  {
   "attachments": {},
   "cell_type": "markdown",
   "metadata": {},
   "source": [
    "### New set of metrics\n",
    "\n",
    "As mentioned, authors from [@dice] implements a new set of metrics and definitions that I am going to explain further. In other words, while having a bunch of different counterfactuals might boost the odds of finding at least one a person can act on, the examples could end up tweaking a ton of features. Or, they might go for maximum diversity by suggesting big changes from the original data. This issue could get even trickier when you're dealing with lots of features. So, we need a mix of **diversity** and **feasibility**, which I'll lay out next.\n",
    "\n",
    "#### Diversity via Determinantal Point Processes\n",
    "\n",
    "When it comes to diversity, we're borrowing from something called determinantal point processes [@DPP]. These have been used to tackle subset selection problems with diversity constraints. We measure diversity with this determinant of a kernel matrix that is based on the counterfactuals:\n",
    "\n",
    "$$\n",
    "\\begin{aligned}\n",
    "\\text{dpp\\_diversity}(x) = \\det(K(x))\n",
    "\\end{aligned}\n",
    "$$\n",
    "\n",
    "Here, $K_{i,j} = \\frac{1}{1+dist(x_i,c_j)}$, where $dist(c_i,c_j)$ is a way to measure the distance between two counterfactual examples. In practice, to dodge issues with undefined determinants, we add small random changes to the diagonal elements when we calculate the determinant."
   ]
  },
  {
   "cell_type": "markdown",
   "metadata": {},
   "source": [
    "If we want to have quick and dirty implementation about that, here it is [^1]:"
   ]
  },
  {
   "cell_type": "code",
   "execution_count": 4,
   "metadata": {},
   "outputs": [],
   "source": [
    "#| code-fold: true\n",
    "\n",
    "import numpy as np\n",
    "import scipy.spatial.distance as distance\n",
    "\n",
    "def create_k_matrix(counterfactuals, distance_func, eps=1e-6):\n",
    "    \"\"\"\n",
    "    Creates a kernel matrix K based on counterfactuals and a given distance function.\n",
    "    \n",
    "    Parameters:\n",
    "    counterfactuals (numpy.ndarray): A 2D array containing counterfactuals.\n",
    "    distance_func (function): A function to measure distance between two counterfactual examples.\n",
    "    eps (float): A small value added to the diagonal of the matrix to avoid determinant issues.\n",
    "    \n",
    "    Returns:\n",
    "    numpy.ndarray: The kernel matrix K.\n",
    "    \"\"\"\n",
    "    \n",
    "    num_counterfactuals = len(counterfactuals)\n",
    "    K = np.zeros((num_counterfactuals, num_counterfactuals))\n",
    "    \n",
    "    for i in range(num_counterfactuals):\n",
    "        for j in range(i+1, num_counterfactuals):\n",
    "            dist = distance_func(counterfactuals[i], counterfactuals[j])\n",
    "            K[i, j] = K[j, i] = 1 / (1 + dist)\n",
    "    \n",
    "    # Add small perturbations to the diagonal elements\n",
    "    np.fill_diagonal(K, np.diag(K) + eps)\n",
    "    \n",
    "    return K"
   ]
  },
  {
   "cell_type": "markdown",
   "metadata": {},
   "source": [
    "[^1]: As always, ChatGPT is being a true \"friend\" when creating these boilerplate code :)\n",
    "\n",
    "#### Proximity\n",
    "\n",
    "So, the counterfactual examples that are closest to the original data are usually the most helpful for users. We calculate proximity as the (negative) vector distance between the original data and the features of the counterfactual example. This can be figured out using a distance metric like the $\\ell_{1}\\text{-distance}$ (and you can weight this by feature if you want). The proximity of a set of counterfactual examples is just the average proximity across the set.\n",
    "\n",
    "$$\n",
    "\\begin{aligned}\n",
    "-\\frac{1}{k}\\sum^{k}_{i=1}\\text{dist}(c_i,x)\n",
    "\\end{aligned}\n",
    "$$\n",
    "\n",
    "As expected, here is an attempt of implementation"
   ]
  },
  {
   "cell_type": "code",
   "execution_count": 5,
   "metadata": {},
   "outputs": [],
   "source": [
    "#| code-fold: true\n",
    "\n",
    "from scipy.spatial import distance\n",
    "\n",
    "def compute_proximity(x, c, dist_function='euclidean'):\n",
    "    # Calculate the distance between x and each counterfactual in c\n",
    "    distances = np.array([distance.cdist([x], [c_i], dist_function) for c_i in c])\n",
    "\n",
    "    # Calculate the average proximity across the set\n",
    "    proximity = -np.mean(distances)\n",
    "\n",
    "    return proximity"
   ]
  },
  {
   "cell_type": "markdown",
   "metadata": {},
   "source": [
    "#### Sparsity\n",
    "\n",
    "Closely linked to proximity is the concept of **sparsity**: it's about determining the **number of features** someone needs to alter to reach the counterfactual class. It's intuitive that a counterfactual example will be more feasible if it modifies fewer features. As this constraint is non-convex (it doesn't have a simple, consistent shape), we don't include it in the loss function. Instead, we manage it by modifying the counterfactuals we generate.\n",
    "\n",
    "#### User Constraints\n",
    "\n",
    "A counterfactual example might seem feasible if you're just looking at the features, but real-world restrictions could make it a no-go. So, it's a good idea to let users set some constraints on how features can be changed. These can be defined in two ways. First, as box constraints that set feasible ranges for each feature—this is where we need to look for counterfactual examples. Like, \"income can't go above 200,000\". Or, a user could just list the variables they're okay with changing."
   ]
  },
  {
   "cell_type": "markdown",
   "metadata": {},
   "source": [
    "### Optimizing everything\n",
    "\n",
    "The authors then propose a combined loss function, $C(x)$, that considers all generated counterfactuals:\n",
    "\n",
    "\\begin{aligned}\n",
    "\\arg \\min_{c_1, \\cdots, c_k} \\quad & \\frac{1}{k} \\sum^{k}_{i=1} yloss(f(c_i), y) + \\frac{\\lambda_{1}}{k} \\sum^{k}_{i=1} dist(c_i, x) - \\lambda_{2} \\text{dpp\\_diversity}(c_1, \\cdots, c_k)\n",
    "\\end{aligned}\n",
    "\n",
    "\n",
    "In this equation, $c_i$ represents a counterfactual example (CF), $k$ is the total number of CFs we want to make, $f(\\cdot)$ is the ML model, $yloss(\\cdot)$ is a metric that shrinks the distance between $f(\\cdot)$'s prediction for $c_i$ and the preferred outcome $y$, $x$ is the initial input, and $\\text(dpp_diversity)(\\cdot)$ is the diversity metric. $\\lambda1$ and $\\lambda_2$ are hyperparameters."
   ]
  },
  {
   "cell_type": "code",
   "execution_count": 6,
   "metadata": {},
   "outputs": [],
   "source": [
    "# MISSING CODE"
   ]
  },
  {
   "attachments": {},
   "cell_type": "markdown",
   "metadata": {},
   "source": [
    "## The Dataset\n",
    "\n",
    "For learning purposes, let's use a simple dataset generator from scikit-learn which I trained a `LGBMClassifier`"
   ]
  },
  {
   "cell_type": "code",
   "execution_count": 1,
   "metadata": {},
   "outputs": [
    {
     "data": {
      "text/html": [
       "<style>#sk-container-id-1 {color: black;background-color: white;}#sk-container-id-1 pre{padding: 0;}#sk-container-id-1 div.sk-toggleable {background-color: white;}#sk-container-id-1 label.sk-toggleable__label {cursor: pointer;display: block;width: 100%;margin-bottom: 0;padding: 0.3em;box-sizing: border-box;text-align: center;}#sk-container-id-1 label.sk-toggleable__label-arrow:before {content: \"▸\";float: left;margin-right: 0.25em;color: #696969;}#sk-container-id-1 label.sk-toggleable__label-arrow:hover:before {color: black;}#sk-container-id-1 div.sk-estimator:hover label.sk-toggleable__label-arrow:before {color: black;}#sk-container-id-1 div.sk-toggleable__content {max-height: 0;max-width: 0;overflow: hidden;text-align: left;background-color: #f0f8ff;}#sk-container-id-1 div.sk-toggleable__content pre {margin: 0.2em;color: black;border-radius: 0.25em;background-color: #f0f8ff;}#sk-container-id-1 input.sk-toggleable__control:checked~div.sk-toggleable__content {max-height: 200px;max-width: 100%;overflow: auto;}#sk-container-id-1 input.sk-toggleable__control:checked~label.sk-toggleable__label-arrow:before {content: \"▾\";}#sk-container-id-1 div.sk-estimator input.sk-toggleable__control:checked~label.sk-toggleable__label {background-color: #d4ebff;}#sk-container-id-1 div.sk-label input.sk-toggleable__control:checked~label.sk-toggleable__label {background-color: #d4ebff;}#sk-container-id-1 input.sk-hidden--visually {border: 0;clip: rect(1px 1px 1px 1px);clip: rect(1px, 1px, 1px, 1px);height: 1px;margin: -1px;overflow: hidden;padding: 0;position: absolute;width: 1px;}#sk-container-id-1 div.sk-estimator {font-family: monospace;background-color: #f0f8ff;border: 1px dotted black;border-radius: 0.25em;box-sizing: border-box;margin-bottom: 0.5em;}#sk-container-id-1 div.sk-estimator:hover {background-color: #d4ebff;}#sk-container-id-1 div.sk-parallel-item::after {content: \"\";width: 100%;border-bottom: 1px solid gray;flex-grow: 1;}#sk-container-id-1 div.sk-label:hover label.sk-toggleable__label {background-color: #d4ebff;}#sk-container-id-1 div.sk-serial::before {content: \"\";position: absolute;border-left: 1px solid gray;box-sizing: border-box;top: 0;bottom: 0;left: 50%;z-index: 0;}#sk-container-id-1 div.sk-serial {display: flex;flex-direction: column;align-items: center;background-color: white;padding-right: 0.2em;padding-left: 0.2em;position: relative;}#sk-container-id-1 div.sk-item {position: relative;z-index: 1;}#sk-container-id-1 div.sk-parallel {display: flex;align-items: stretch;justify-content: center;background-color: white;position: relative;}#sk-container-id-1 div.sk-item::before, #sk-container-id-1 div.sk-parallel-item::before {content: \"\";position: absolute;border-left: 1px solid gray;box-sizing: border-box;top: 0;bottom: 0;left: 50%;z-index: -1;}#sk-container-id-1 div.sk-parallel-item {display: flex;flex-direction: column;z-index: 1;position: relative;background-color: white;}#sk-container-id-1 div.sk-parallel-item:first-child::after {align-self: flex-end;width: 50%;}#sk-container-id-1 div.sk-parallel-item:last-child::after {align-self: flex-start;width: 50%;}#sk-container-id-1 div.sk-parallel-item:only-child::after {width: 0;}#sk-container-id-1 div.sk-dashed-wrapped {border: 1px dashed gray;margin: 0 0.4em 0.5em 0.4em;box-sizing: border-box;padding-bottom: 0.4em;background-color: white;}#sk-container-id-1 div.sk-label label {font-family: monospace;font-weight: bold;display: inline-block;line-height: 1.2em;}#sk-container-id-1 div.sk-label-container {text-align: center;}#sk-container-id-1 div.sk-container {/* jupyter's `normalize.less` sets `[hidden] { display: none; }` but bootstrap.min.css set `[hidden] { display: none !important; }` so we also need the `!important` here to be able to override the default hidden behavior on the sphinx rendered scikit-learn.org. See: https://github.com/scikit-learn/scikit-learn/issues/21755 */display: inline-block !important;position: relative;}#sk-container-id-1 div.sk-text-repr-fallback {display: none;}</style><div id=\"sk-container-id-1\" class=\"sk-top-container\"><div class=\"sk-text-repr-fallback\"><pre>LGBMClassifier(random_state=42)</pre><b>In a Jupyter environment, please rerun this cell to show the HTML representation or trust the notebook. <br />On GitHub, the HTML representation is unable to render, please try loading this page with nbviewer.org.</b></div><div class=\"sk-container\" hidden><div class=\"sk-item\"><div class=\"sk-estimator sk-toggleable\"><input class=\"sk-toggleable__control sk-hidden--visually\" id=\"sk-estimator-id-1\" type=\"checkbox\" checked><label for=\"sk-estimator-id-1\" class=\"sk-toggleable__label sk-toggleable__label-arrow\">LGBMClassifier</label><div class=\"sk-toggleable__content\"><pre>LGBMClassifier(random_state=42)</pre></div></div></div></div></div>"
      ],
      "text/plain": [
       "LGBMClassifier(random_state=42)"
      ]
     },
     "execution_count": 1,
     "metadata": {},
     "output_type": "execute_result"
    }
   ],
   "source": [
    "#| code-fold: true\n",
    "\n",
    "import numpy as np\n",
    "import matplotlib.pyplot as plt\n",
    "from sklearn.datasets import make_blobs\n",
    "from lightgbm import LGBMClassifier\n",
    "from sklearn.model_selection import train_test_split\n",
    "\n",
    "# Generate a 2D dataset with two classes\n",
    "np.random.seed(42)\n",
    "X, y = make_blobs(n_samples=200, centers=2, random_state=42, cluster_std=2.0)\n",
    "X_train, X_test, y_train, y_test = train_test_split(X, y, test_size=0.3, random_state=42)\n",
    "\n",
    "# Train the LightGBM classifier\n",
    "clf = LGBMClassifier(random_state=42)\n",
    "clf.fit(X_train, y_train)"
   ]
  },
  {
   "attachments": {},
   "cell_type": "markdown",
   "metadata": {},
   "source": [
    "Also, I want to explain a single instance from `test` set. Let's take the first element :)"
   ]
  },
  {
   "cell_type": "code",
   "execution_count": 2,
   "metadata": {},
   "outputs": [
    {
     "data": {
      "image/png": "[encoded data removed]",
      "text/plain": [
       "<Figure size 640x480 with 1 Axes>"
      ]
     },
     "metadata": {},
     "output_type": "display_data"
    }
   ],
   "source": [
    "instance_to_explain = np.where(X==X_test[0])[0][0]\n",
    "\n",
    "assert (X[instance_to_explain]==X_test[0]).all()\n",
    "\n",
    "def plot_dataset_with_instance(X, y, highlight_row=None, title=\"Dataset\"):\n",
    "    # Assuming you have two classes 0 and 1\n",
    "    class_0 = X[y == 0]\n",
    "    class_1 = X[y == 1]\n",
    "    \n",
    "    # Create a scatter plot for each class\n",
    "    plt.scatter(class_0[:, 0], class_0[:, 1], c='blue', label='Class 0', alpha=0.3)\n",
    "    plt.scatter(class_1[:, 0], class_1[:, 1], c='red', label='Class 1', alpha=0.3)\n",
    "    \n",
    "    if highlight_row is not None:\n",
    "        plt.scatter(X[highlight_row, 0], X[highlight_row, 1], c='green', label='Instance', alpha=1, marker='o', edgecolors='k')\n",
    "\n",
    "    plt.xlabel('Feature 1')\n",
    "    plt.ylabel('Feature 2')\n",
    "    plt.title(title)\n",
    "    \n",
    "    # Add a legend to the plot\n",
    "    plt.legend()\n",
    "    \n",
    "    plt.show()\n",
    "\n",
    "# Pass in the index of the row you want to highlight\n",
    "plot_dataset_with_instance(X, y, highlight_row=instance_to_explain)"
   ]
  },
  {
   "attachments": {},
   "cell_type": "markdown",
   "metadata": {},
   "source": [
    "Therefore, we want to find the _set of candidates_ that makes the **green** instance becomes **red**"
   ]
  },
  {
   "cell_type": "markdown",
   "metadata": {},
   "source": [
    "## Evaluating Counterfactuals"
   ]
  },
  {
   "cell_type": "markdown",
   "metadata": {},
   "source": []
  }
 ],
 "metadata": {
  "kernelspec": {
   "display_name": "Python 3 (ipykernel)",
   "language": "python",
   "name": "python3"
  },
  "language_info": {
   "codemirror_mode": {
    "name": "ipython",
    "version": 3
   },
   "file_extension": ".py",
   "mimetype": "text/x-python",
   "name": "python",
   "nbconvert_exporter": "python",
   "pygments_lexer": "ipython3",
   "version": "3.10.8"
  },
  "toc": {
   "base_numbering": 1,
   "nav_menu": {},
   "number_sections": true,
   "sideBar": true,
   "skip_h1_title": false,
   "title_cell": "Table of Contents",
   "title_sidebar": "Contents",
   "toc_cell": false,
   "toc_position": {},
   "toc_section_display": true,
   "toc_window_display": true
  }
 },
 "nbformat": 4,
 "nbformat_minor": 4
}

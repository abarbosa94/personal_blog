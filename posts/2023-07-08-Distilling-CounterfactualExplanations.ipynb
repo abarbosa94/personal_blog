{
 "cells": [
  {
   "cell_type": "raw",
   "metadata": {},
   "source": [
    "---\n",
    "aliases:\n",
    "- /masters/knowledge-distill/xai/2023/07/08/Distilling-DiCE\n",
    "author: Andre Barbosa\n",
    "badges: true\n",
    "branch: main\n",
    "categories:\n",
    "- masters\n",
    "- knowledge-distill\n",
    "- xai\n",
    "date: '2023-07-08'\n",
    "description: Distilling Diverse Counterfactual Explanations\n",
    "hide: false\n",
    "hide_binder_badge: false\n",
    "hide_colab_badge: false\n",
    "output-file: 2023-07-08-annotated-diverse-cfe.html\n",
    "search_exclude: false\n",
    "title: Distilling Diverse Counterfactual Explanations\n",
    "toc: true\n",
    "bibliography: references.bib\n",
    "\n",
    "---\n"
   ]
  },
  {
   "attachments": {},
   "cell_type": "markdown",
   "metadata": {},
   "source": [
    "# Distilling Diverse Counterfactual Explanations"
   ]
  },
  {
   "attachments": {},
   "cell_type": "markdown",
   "metadata": {},
   "source": [
    "![](images/distill-dice/introduction.jpeg \"DiCE\")"
   ]
  },
  {
   "attachments": {},
   "cell_type": "markdown",
   "metadata": {},
   "source": [
    "# The theory\n",
    "\n",
    "Continuing my series of post, this time I'll provide an introdutory elucidation of `Counterfactual Explanations`, an interest concept that goes in the same direction of model explanation, but it is different than feature attribution methods like [@LIMEPaper] and [@SHAPPaper].\n",
    "\n",
    "Simply speaking, according to authors from [@dice], suppose that someone who tried to get a loan but got turned down by the bank's computer system. Normally, the bank might tell them why, like \"you have a bad credit history\". But this doesn't give the person a clue about what they should do differently next time to get approved. Also, what the system flagged as most important might not even be something they can change, e.g. their `gender` or `race`. So, it's super crucial not only to know why you got rejected, but **also to see what changes could lead to a different result**. This way, people can figure out what actions they could've taken to swing the decision in their favor.\n",
    "\n",
    "This leads us to the definition of Counterfactual Explanations [@CounterFactualWatcher]. Using the loan example, these would show how the same person could have changed a few things to get approved for the loan. For instance, they might say \"if you earned $10,000 more, you'd have gotten the loan.\" Basically, these are \"what-if\" scenarios based on the model's results. A big plus of these counterfactual explanations is that they're always true to the original model since they're just a different take on the system's results. Plus, they can be easy for people to understand.\n",
    "\n"
   ]
  },
  {
   "attachments": {},
   "cell_type": "markdown",
   "metadata": {},
   "source": [
    "## The caveat\n",
    "\n",
    "Coming up with \"what-if\" scenarios that someone can actually do is tough. Let's go back to the loan example. A counterfactual explanation might suggest \"lower your rent\", but it doesn't give other options or consider how hard different changes might be to pull off. That's why we need a variety of counterfactual examples to help people wrap their heads around these complex machine learning models. Ideally, these examples should offer a range of suggestions and think about how doable those changes are. \n",
    "\n",
    ":::{.callout-important}\n",
    "\n",
    "Rules should make sense with real-world rules, like, you can't just downgrade your degree or change your race.\n",
    "\n",
    ":::\n",
    "\n",
    "### But what is wrong with Feature Importance methods?\n",
    "\n",
    "Models like those mentioned in the [@LIMEPaper] and [@SHAPPaper] papers are seen as \"Feature Importance\" methods. They explain things by ranking the most relevant features. But here's the thing, these explanations aren't totally honest about what's going on with the machine learning models. As there is always this balancing act between being true to the model and making it understandable to humans when you're explaining a complex model, an explanation methods that use simpler stand-in models are always approximatios the real model to some extent. Therefore, one big issue with this is that because the explanations come from these simpler models, there's no guarantee that they're actually representing the original model accurately.\n",
    "\n",
    "## Approaching the solution\n",
    "\n",
    "Extending the work from [@CounterFactualWatcher], [@dice] authors set up an optimization problem that looks at both the diversity of the \"what-if\" scenarios and how close they are to the original data, coming up with a method that generates a bunch of \"what-if\" scenarios. Also, they provide a set of interesting metrics for evaluating counterfactual explanations, which I believe is worthwhile to explore :)"
   ]
  },
  {
   "attachments": {},
   "cell_type": "markdown",
   "metadata": {},
   "source": [
    "## Going Formal\n",
    "\n",
    "So, what we're working with here is a trained machine learning model, $f$, and a specific case, $x$. Our aim is to generate a group of $k$ counterfactuals, {$c_1, c_2, \\cdots{. . .}, c_k$}, that would lead to a different outcome than $x$. Both $x$ and all the CF examples (${c_1, c_2, \\cdots{. . .} , c_k}$) are $d\\text{-dimensional}$. Throughout this paper, we're assuming that the machine learning model is differentiable and static (it doesn't change over time), and that the output is **binary**.\n",
    "\n",
    "Our goal is to generate an actionable counterfactual set, that is, the user should be able to find CF examples that they can act upon. To do so, we need individual CF examples to be feasible with respect to the original input, but also need diversity among the generated counterfactuals to provide different ways of changing the outcome class."
   ]
  },
  {
   "attachments": {},
   "cell_type": "markdown",
   "metadata": {},
   "source": [
    "### Counterfactuals Generation Engine\n",
    "\n",
    "\n",
    "Let's say you have an input feature $x$ and an output from an ML model $f$. A counterfactual explanation is a tweak to the input that causes a different output $y$ from the same model. Specifically, Wachter and his team came up with this idea:\n",
    "\n",
    "$$\n",
    "\\begin{aligned}\n",
    "x_{cf} = \\arg \\min_{x_{cf}} \\quad & yloss(f(x_{cf}), y) + |x - x_{cf}| \\\\\n",
    "\\text{s.t.} \\quad & f(x_{cf}) = y', y' \\neq y\n",
    "\\end{aligned}\n",
    "$$\n",
    "\n",
    "\n",
    "In plain terms, we want the counterfactual example $x_{cf}$ that minimizes the loss such that this instance stays relatively close to the original data point. Thefore, while the first component (_yloss_) drives the counterfactual $x_{cf}$ towards a prediction that's different from the original data point the second one ($x -  x_{cf}$) ensures that the counterfactual stays relatively close to $x$.\n",
    "\n",
    "For simplicity, for now on, lets assume that $x_{cf}=c$"
   ]
  },
  {
   "attachments": {},
   "cell_type": "markdown",
   "metadata": {},
   "source": [
    "### New set of metrics\n",
    "\n",
    "As mentioned, authors from [@dice] implements a new set of metrics and definitions that I am going to explain further. In other words, while having a bunch of different counterfactuals might boost the odds of finding at least one a person can act on, the examples could end up tweaking a ton of features. Or, they might go for maximum diversity by suggesting big changes from the original data. This issue could get even trickier when you're dealing with lots of features. So, we need a mix of **diversity** and **feasibility**, which I'll lay out next.\n",
    "\n",
    "#### Diversity via Determinantal Point Processes\n",
    "\n",
    "When it comes to diversity, we're borrowing from something called determinantal point processes [@DPP]. These have been used to tackle subset selection problems with diversity constraints. We measure diversity with this determinant of a kernel matrix that is based on the counterfactuals:\n",
    "\n",
    "$$\n",
    "\\begin{aligned}\n",
    "\\text{dpp\\_diversity}(x) = \\det(K(x))\n",
    "\\end{aligned}\n",
    "$$\n",
    "\n",
    "Here, $K_{i,j} = \\frac{1}{1+dist(x_i,c_j)}$, where $dist(c_i,c_j)$ is a way to measure the distance between two counterfactual examples. In practice, to dodge issues with undefined determinants, we add small random changes to the diagonal elements when we calculate the determinant."
   ]
  },
  {
   "cell_type": "markdown",
   "metadata": {},
   "source": [
    "If we want to have quick and dirty implementation about that, here it is [^1]:"
   ]
  },
  {
   "cell_type": "code",
   "execution_count": 1,
   "metadata": {},
   "outputs": [],
   "source": [
    "#| code-fold: true\n",
    "\n",
    "import numpy as np\n",
    "import scipy.spatial.distance as distance\n",
    "import torch\n",
    "import random\n",
    "\n",
    "seed = 42\n",
    "torch.manual_seed(seed)\n",
    "np.random.seed(seed)\n",
    "random.seed(seed)\n",
    "torch.use_deterministic_algorithms(True)\n",
    "\n",
    "\n",
    "def create_k_matrix(counterfactuals, distance_func, training_data, eps=1e-6):\n",
    "    \"\"\"\n",
    "    Creates a kernel matrix K based on counterfactuals and a given distance function.\n",
    "    \n",
    "    Parameters:\n",
    "    counterfactuals (list(torch.Tensor)): A list of counterfactual candidates\n",
    "    distance_func (function): A function to measure distance between two counterfactual examples.\n",
    "    eps (float): A small value added to the diagonal of the matrix to avoid determinant issues.\n",
    "    \n",
    "    Returns:\n",
    "    torch.Tensor: The kernel matrix K.\n",
    "    \"\"\"\n",
    "    \n",
    "    num_counterfactuals = len(counterfactuals)\n",
    "    K = torch.zeros((num_counterfactuals, num_counterfactuals))\n",
    "    \n",
    "    for i in range(num_counterfactuals):\n",
    "        for j in range(i+1, num_counterfactuals):\n",
    "            dist = distance_func(counterfactuals[i], counterfactuals[j], training_data)\n",
    "            K[i, j] = K[j, i] = 1 / (1 + dist)\n",
    "    \n",
    "    # Add small perturbations to the diagonal elements\n",
    "    # Clone the tensor first if gradient computation is needed\n",
    "    K = K.clone() \n",
    "    K.diagonal().add_(eps)\n",
    "    \n",
    "    return K\n"
   ]
  },
  {
   "cell_type": "markdown",
   "metadata": {},
   "source": [
    "[^1]: As always, ChatGPT is being a true \"friend\" when creating these boilerplate code :)\n",
    "\n",
    "#### Proximity\n",
    "\n",
    "So, the counterfactual examples that are closest to the original data are usually the most helpful for users. We calculate proximity as the (negative) vector distance between the original data and the features of the counterfactual example. This can be figured out using a distance metric like the $\\ell_{1}\\text{-distance}$ (and you can weight this by feature if you want). The proximity of a set of counterfactual examples is just the average proximity across the set.\n",
    "\n",
    "$$\n",
    "\\begin{aligned}\n",
    "-\\frac{1}{k}\\sum^{k}_{i=1}\\text{dist}(c_i,x)\n",
    "\\end{aligned}\n",
    "$$\n",
    "\n",
    "As expected, here is an attempt of implementation"
   ]
  },
  {
   "cell_type": "code",
   "execution_count": 2,
   "metadata": {},
   "outputs": [],
   "source": [
    "#| code-fold: true\n",
    "\n",
    "from scipy.spatial import distance\n",
    "\n",
    "def compute_proximity(x, c, dist_function='euclidean'):\n",
    "    # Calculate the distance between x and each counterfactual in c\n",
    "    distances = np.array([distance.cdist([x], [c_i], dist_function) for c_i in c])\n",
    "\n",
    "    # Calculate the average proximity across the set\n",
    "    proximity = -np.mean(distances)\n",
    "\n",
    "    return proximity"
   ]
  },
  {
   "cell_type": "markdown",
   "metadata": {},
   "source": [
    "#### Sparsity\n",
    "\n",
    "Closely linked to proximity is the concept of **sparsity**: it's about determining the **number of features** someone needs to alter to reach the counterfactual class. It's intuitive that a counterfactual example will be more feasible if it modifies fewer features. As this constraint is non-convex (it doesn't have a simple, consistent shape), we don't include it in the loss function. Instead, we manage it by modifying the counterfactuals we generate.\n",
    "\n",
    "$$\n",
    "\\begin{aligned}\n",
    "1 - \\frac{1}{kd}\\sum^{k}_{i=1}\\sum^{d}_{l=1}\\mathbb{1}_[c^l_i \\neq x^l_i]\n",
    "\\end{aligned}\n",
    "$$"
   ]
  },
  {
   "cell_type": "code",
   "execution_count": 3,
   "metadata": {},
   "outputs": [],
   "source": [
    "#| code-fold: true\n",
    "\n",
    "def sparsity(x, c):\n",
    "    \"\"\"\n",
    "    Calculate the sparsity based on the given equation.\n",
    "\n",
    "    Parameters:\n",
    "    x (list): Input features.\n",
    "    c (list): Set of counterfactuals. It should be a 2D list where each inner list is a counterfactual.\n",
    "\n",
    "    Returns:\n",
    "    float: Sparsity value.\n",
    "    \"\"\"\n",
    "    k = len(c)  # Number of counterfactuals\n",
    "    d = len(x)  # Number of input features\n",
    "    assert all(len(cf) == d for cf in c), \"The size of input features and counterfactuals should match.\"\n",
    "\n",
    "    # Calculate the sum of the indicator function\n",
    "    indicator_sum = 0\n",
    "    for cf in c:\n",
    "        for xi, cfi in zip(x, cf):\n",
    "            if xi != cfi:\n",
    "                indicator_sum += 1\n",
    "\n",
    "    # Calculate the sparsity\n",
    "    sparsity = 1 - (1 / (k * d)) * indicator_sum\n",
    "\n",
    "    return sparsity"
   ]
  },
  {
   "cell_type": "markdown",
   "metadata": {},
   "source": [
    "#### User Constraints\n",
    "\n",
    "A counterfactual example might seem feasible if you're just looking at the features, but real-world restrictions could make it a no-go. So, it's a good idea to let users set some constraints on how features can be changed. These can be defined in two ways. First, as box constraints that set feasible ranges for each feature—this is where we need to look for counterfactual examples. Like, \"income can't go above 200,000\". Or, a user could just list the variables they're okay with changing."
   ]
  },
  {
   "cell_type": "markdown",
   "metadata": {},
   "source": [
    "### Optimizing everything\n",
    "\n",
    "The authors then propose a combined loss function, $C(x)$, that considers all generated counterfactuals:\n",
    "\n",
    "\\begin{aligned}\n",
    "C(x) = \\arg \\min_{c_1, \\cdots, c_k} \\quad & \\frac{1}{k} \\sum^{k}_{i=1} yloss(f(c_i), y) + \\frac{\\lambda_{1}}{k} \\sum^{k}_{i=1} dist(c_i, x) - \\lambda_{2} \\text{dpp\\_diversity}(c_1, \\cdots, c_k)\n",
    "\\end{aligned}\n",
    "\n",
    "\n",
    "In this equation, $c_i$ represents a counterfactual example (CF), $k$ is the total number of CFs we want to make, $f(\\cdot)$ is the ML model, $yloss(\\cdot)$ is a metric that shrinks the distance between $f(\\cdot)$'s prediction for $c_i$ and the preferred outcome $y$, $x$ is the initial input, and $\\text{dpp\\_diversity}(\\cdot)$ is the diversity metric. $\\lambda1$ and $\\lambda_2$ are hyperparameters.\n",
    "\n",
    "Please note that $y$ could also be $f(x)$, so we can use the model's prediction for the instance we want to explain instead of the real label $y$. Moreover, author's state that they initializr $c_i$ randomly and optimize it via **gradient descent**. \n",
    "\n",
    "One way to see this is that given a $c_i$ random array with the same $d$ dimensions of $x$ and we want to _learn_ the best set of $k$ $c$ arrays, we can \"think\" of this as some sort of single layer neural network, with $x$ and $f(x)$ being the label. For example, if $k=1$, we are optmizing some sort of single \"hidden layer\" so that in the end we would have the counterfactuals.\n",
    "\n",
    ":::{.callout-important}\n",
    "\n",
    "As the loss is going to be optimized via **gradient descent** and we want to learn the counterfactuals through it as we are passing it through $f(c_i)$, **the model inference function has to be _differentiable_**. This, the blackbox model **has** to be something like a Neural Network or Logistic Function but not a boosted decision tree or a random forest, as **decision trees are not differentiable**\n",
    "\n",
    ":::\n",
    "\n",
    "Let's breakdown each element of this loss function:\n",
    "\n",
    "- $yloss(f(c\\_i), y)$: this part will try to make $f(c_i)$ be different than $y$\n",
    "- $dist(c_i, x)$: will make sure that $c_i$ is close to $x$\n",
    "- $\\text{dpp\\_diversity}(c_1, \\cdots, c_k)$: this part will try to diversify $(c_1, \\cdots, c_k)$\n",
    "\n",
    "Here is pytorch for implementing this."
   ]
  },
  {
   "cell_type": "code",
   "execution_count": 100,
   "metadata": {},
   "outputs": [],
   "source": [
    "import torch\n",
    "from torch.autograd import Variable\n",
    "import numpy as np\n",
    "from tqdm.auto import tqdm\n",
    "\n",
    "# Assuming we have a function to compute yloss\n",
    "# def yloss(f_c, y): ...\n",
    "# Assuming we have a function to compute the ML model prediction\n",
    "# def f(c): ...\n",
    "\n",
    "def detect_convergence(model_classifier, current_loss, previous_loss, y, counterfactuals, threshold = 1e-3):\n",
    "    # Calculate the change in loss\n",
    "    change_in_loss = torch.abs(current_loss - previous_loss)\n",
    "    \n",
    "    # Check if the instance_to_analyze's prediction is different from all counterfactuals\n",
    "    y_diff_all = all([y != model_classifier.predict(c_i) for c_i in counterfactuals])\n",
    "    # Check if the change in loss is less than threshold and y is different from all counterfactuals\n",
    "    if change_in_loss < threshold and y_diff_all:\n",
    "        print(f\"Loss converged at: {change_in_loss}, stop criteria reached\")\n",
    "        return True\n",
    "    return False\n",
    "\n",
    "\n",
    "def learn_counterfactuals(instance_to_analyze, \n",
    "                            lambda_1, lambda_2, yloss, \n",
    "                            distance_function, model_classifier,\n",
    "                            k, training_dataset, num_epochs=100, learning_rate=0.01):\n",
    "    # Convert inputs to PyTorch tensors\n",
    "    counterfactual_candidates = [torch.randn_like(instance_to_analyze, requires_grad=True) for _ in range(k)]\n",
    "    \n",
    "    # Define the optimizer\n",
    "    optimizer = torch.optim.AdamW(counterfactual_candidates, lr=learning_rate)\n",
    "    \n",
    "    # Gradient descent\n",
    "    prev_loss = torch.tensor(float('inf'))\n",
    "    for epoch in tqdm(range(num_epochs), desc=\"Number of epochs\"):\n",
    "        y = model_classifier.predict(instance_to_analyze)\n",
    "        optimizer.zero_grad()\n",
    "        \n",
    "        # Compute average yloss\n",
    "        yloss_per_ci = torch.stack([yloss(y, model_classifier(c_i)) for c_i in counterfactual_candidates])\n",
    "        avg_yloss = torch.mean(yloss_per_ci)\n",
    "                \n",
    "        # Compute average distance\n",
    "        dist_per_ci = torch.stack([distance_function(c_i, instance_to_analyze, training_dataset) for c_i in counterfactual_candidates])\n",
    "        avg_dist = torch.mean(dist_per_ci)\n",
    "        \n",
    "        # Compute dpp_diversity\n",
    "        K = create_k_matrix(counterfactual_candidates, distance_function, training_dataset)\n",
    "        dpp_diversity = torch.det(K)\n",
    "        \n",
    "        # Normalize dpp_diversity by the size of K to avoid determinant being too large\n",
    "        normalized_dpp_diversity = dpp_diversity / K.numel()\n",
    "\n",
    "        \n",
    "        # Compute the final loss\n",
    "        loss = avg_yloss + lambda_1*avg_dist - lambda_2*normalized_dpp_diversity\n",
    "        if detect_convergence(model_classifier, loss, prev_loss, y, counterfactual_candidates, threshold = 1e-3):\n",
    "            # this is still not working\n",
    "            break\n",
    "        prev_loss = loss\n",
    "        \n",
    "        # Backpropagation\n",
    "        loss.backward()\n",
    "        \n",
    "        # Update the counterfactuals\n",
    "        optimizer.step()\n",
    "        if epoch%10==0:\n",
    "            print(f\"Current loss: {loss}\")\n",
    "\n",
    "    \n",
    "    # Return the optimized counterfactuals\n",
    "    return [c_i for c_i in counterfactual_candidates]"
   ]
  },
  {
   "attachments": {},
   "cell_type": "markdown",
   "metadata": {},
   "source": [
    "# The practice\n",
    "\n",
    "## A few practical considerations\n",
    "\n",
    "Authors also describe a few practical considerations that I'll be using for understanding the main idea behind the paper. Let's dive into them\n",
    "\n",
    "### Choice of loss\n",
    "\n",
    "At a first glance it might seem intuitive to use $\\ell_1\\text{-loss}$ ($|f(x) − f (c)|$) or $\\ell_2\\text{-loss}$ (($f(x) - f(c))^2$) as the yloss, but this isn't actually the best idea. \n",
    "\n",
    "These loss functions take into account the difference between $f(c)$ and our desired $f(x)$ or $y$, but what we really want for a valid counterfactual is for $f(c)$ to be either more close than the threshold set by $f$ such that it flips the class outcome, not necessarily the closest to our ideal $y$ (either $1$ or $0$). In fact, trying to optimize $f(c)$ to be close to either $0$ or $1$ encourages bigger changes to $x$ to fit the counterfactual class, which can result in a counterfactual that's less feasible for a user. Because of this, we prefer to use a hinge-loss function that has no penalty as long as $f(c)$ is above a certain threshold when the preferred class is 1 (or below a certain threshold when the preferred class is 0). It also adds a penalty that's proportional to the difference between $f(c)$ and the threshold when the classifier gets it right (but within the threshold), and a larger penalty when $f(c)$ doesn't show the desired counterfactual class. More precisely, the hinge-loss is:\n",
    "$$\n",
    "\\begin{aligned}\n",
    "\\text{hinge\\_yloss}=max(0,1 - z*logit(f(c)))\n",
    "\\end{aligned}\n",
    "$$\n",
    "\n",
    "Where $z$ is -1 when $y = 0$ and $1$ when $y=1$, and $logit(f(c))$ is the\n",
    "unscaled output from the ML model (e.g., final logits that enter a softmax layer for making predictions in a neural network).\n",
    "\n"
   ]
  },
  {
   "cell_type": "code",
   "execution_count": 63,
   "metadata": {},
   "outputs": [],
   "source": [
    "import numpy as np\n",
    "\n",
    "def hinge_yloss(y, probabilities, eps=1e-7):\n",
    "    \"\"\"\n",
    "    Computes the hinge loss.\n",
    "\n",
    "    Parameters:\n",
    "    eps (float): A small value to prevent log(0) when f_c is 0.\n",
    "\n",
    "    \"\"\"\n",
    "    # Ensures f_c is in (0, 1) interval to prevent log(0)\n",
    "    probabilities = probabilities.clamp(eps, 1 - eps)\n",
    "\n",
    "    # Compute logit\n",
    "    prediction_logits = torch.log(probabilities / (1 - probabilities))\n",
    "    # Determine z based on y\n",
    "    z = torch.where(y == 1, -torch.ones_like(y), torch.ones_like(y))\n",
    "\n",
    "    # Compute hinge loss\n",
    "    hinge_loss = torch.maximum(torch.tensor(0.0), 1 - z * prediction_logits)\n",
    "    \n",
    "    return hinge_loss"
   ]
  },
  {
   "cell_type": "markdown",
   "metadata": {},
   "source": [
    "I decided to have a quick test about it.\n",
    "\n",
    "Notice that as we need to differentiate the loss, the LogisticRegression method from sklearn wouldnt work since I dont have access to it's derivatives or gradients (and they would be lost as I would need to convert `torch.Tensor` to `numpy.array` if I had to perform something like `model.predict_proba(instance_tensor)`)\n",
    "\n",
    "Therefore, I'm creating a simple LogsiticRegression in Pytorch"
   ]
  },
  {
   "cell_type": "code",
   "execution_count": 64,
   "metadata": {},
   "outputs": [],
   "source": [
    "#| code-fold: true\n",
    "import torch\n",
    "import torch.nn as nn\n",
    "\n",
    "class LogisticRegressionModel(nn.Module):\n",
    "    def __init__(self, input_dim):\n",
    "        super(LogisticRegressionModel, self).__init__()\n",
    "        self.linear = nn.Linear(input_dim, 1)\n",
    "\n",
    "    def predict(self, x, threshold=0.5):\n",
    "        self.eval()\n",
    "        label_probability = self(x)\n",
    "        y = (label_probability > threshold).float()\n",
    "        return y\n",
    "\n",
    "    def forward(self, x):\n",
    "        out = torch.sigmoid(self.linear(x))\n",
    "        return out\n",
    "\n"
   ]
  },
  {
   "cell_type": "markdown",
   "metadata": {},
   "source": [
    "And then training it in a really dummy dataset, just for testing :)"
   ]
  },
  {
   "cell_type": "code",
   "execution_count": 7,
   "metadata": {},
   "outputs": [
    {
     "data": {
      "application/vnd.jupyter.widget-view+json": {
       "model_id": "12ecf1a637c94acb9a05f8b615028bee",
       "version_major": 2,
       "version_minor": 0
      },
      "text/plain": [
       "Training Logistic Regression:   0%|          | 0/2000 [00:00<?, ?it/s]"
      ]
     },
     "metadata": {},
     "output_type": "display_data"
    },
    {
     "name": "stdout",
     "output_type": "stream",
     "text": [
      "epoch: 500, loss = 0.06291789561510086\n",
      "epoch: 1000, loss = 0.04198703169822693\n",
      "epoch: 1500, loss = 0.031998444348573685\n",
      "epoch: 2000, loss = 0.025996342301368713\n"
     ]
    }
   ],
   "source": [
    "#| code-fold: true\n",
    "\n",
    "from sklearn.datasets import make_classification\n",
    "from sklearn.model_selection import train_test_split\n",
    "\n",
    "# Generate a binary classification dataset\n",
    "X, y = make_classification(n_samples=100, n_features=20, n_informative=2, n_redundant=10, random_state=1)\n",
    "\n",
    "# Split into train/test sets\n",
    "X_train, X_test, y_train, y_test = train_test_split(X, y, test_size=0.5, random_state=1)\n",
    "\n",
    "X_train = torch.FloatTensor(X_train)\n",
    "X_test = torch.FloatTensor(X_test)\n",
    "y_train = torch.FloatTensor(y_train).view(-1, 1)\n",
    "y_test = torch.FloatTensor(y_test).view(-1, 1)\n",
    "\n",
    "input_dim = X_train.shape[1]  # takes variable 'x' \n",
    "model = LogisticRegressionModel(input_dim)\n",
    "\n",
    "criterion = torch.nn.BCELoss()  # Binary Cross Entropy loss\n",
    "optimizer = torch.optim.SGD(model.parameters(), lr=0.1)\n",
    "\n",
    "epochs = 2000\n",
    "for epoch in tqdm(range(epochs), desc=\"Training Logistic Regression\"):\n",
    "    model.train()\n",
    "    optimizer.zero_grad()\n",
    "    # Forward pass\n",
    "    y_pred = model(X_train)\n",
    "    # Compute Loss\n",
    "    loss = criterion(y_pred, y_train)\n",
    "\n",
    "    # Backward pass and update\n",
    "    loss.backward()\n",
    "    optimizer.step()\n",
    "\n",
    "    # print progress\n",
    "    if (epoch+1) % 500 == 0:\n",
    "        print(f'epoch: {epoch+1}, loss = {loss.item()}')"
   ]
  },
  {
   "cell_type": "code",
   "execution_count": 8,
   "metadata": {},
   "outputs": [
    {
     "name": "stdout",
     "output_type": "stream",
     "text": [
      "Hinge loss for a test case: tensor([[0.9653]], grad_fn=<MaximumBackward0>)\n"
     ]
    }
   ],
   "source": [
    "# Create a sample instance\n",
    "x = X_test[0].reshape(1, -1)\n",
    "result = hinge_yloss(model.predict(x), model(x))\n",
    "\n",
    "# Call the hinge_yloss function\n",
    "print(f\"Hinge loss for a test case: {result}\")"
   ]
  },
  {
   "cell_type": "markdown",
   "metadata": {},
   "source": [
    "### Distance function\n",
    "\n",
    "\n",
    "When dealing with continuous features, we define the 'dist' function as the average of feature-wise $\\ell_1$ distances (or Manhattan distance) between the counterfactual example and the original input, as suggested by [@CounterFactualWatcher]. However, it's worth noting that features can cover different ranges. So, to make sure we account for this, we divide each feature-wise distance by the median absolute deviation (MAD) of that feature's values from the training set. This approach follows what was done in the paper by [@CounterFactualWatcher]. By looking at how much a feature deviates from the median, we can get a reliable measure of how variable a feature's values are. So, dividing by the MAD lets us see how common it is to find the feature at a specific value. Mathematically, this can be represented as follows:\n",
    "\n",
    "$$\n",
    "\\begin{aligned}\n",
    "\\text{dist\\_continuous}(c,x)=\\frac{1}{d_{cont}}\\sum^{d_{cont}}_{p=1}\\frac{|c^p - x^p|}{MAD_p}\n",
    "\\end{aligned}\n",
    "$$\n",
    "\n",
    "Here, $d_{cont}$ stands for the number of continuous variables and $MAD_p$ is the median absolute deviation for the $p\\text{-th}$ continuous variable, |c^p - x^p| is the Manhattan distance ($\\ell_1$ distance) between a counterfactual vector and the instance we are analyzing"
   ]
  },
  {
   "cell_type": "code",
   "execution_count": 9,
   "metadata": {},
   "outputs": [],
   "source": [
    "import torch\n",
    "\n",
    "def median_abs_deviation(x):\n",
    "    \"\"\"\n",
    "    Compute the Median Absolute Deviation (MAD) of a tensor along an axis.\n",
    "\n",
    "    Parameters:\n",
    "    x (torch.Tensor): The input tensor.\n",
    "\n",
    "    Returns:\n",
    "    torch.Tensor: The computed MAD values.\n",
    "    \"\"\"\n",
    "    median = torch.median(x, axis=0)[0]\n",
    "    mad = torch.median(torch.abs(x - median), axis=0)[0]\n",
    "    return mad\n",
    "\n",
    "def dist_continuous(c, x, training_data):\n",
    "    \"\"\"\n",
    "    Compute the distance function for continuous features. \n",
    "\n",
    "    We are assuming that training data contains only continuous features \n",
    "\n",
    "    Parameters:\n",
    "    c (torch.Tensor): A counterfactual example.\n",
    "    x (torch.Tensor): The original input instance.\n",
    "    training_data (torch.Tensor): The training dataset.\n",
    "\n",
    "    Returns:\n",
    "    float: The computed distance.\n",
    "    \"\"\"\n",
    "    \n",
    "    d_cont = x.shape[0]\n",
    "    \n",
    "    # Compute MAD values for each feature\n",
    "    mad_values = median_abs_deviation(training_data)\n",
    "    \n",
    "    abs_diff = torch.abs(c - x)\n",
    "    normalized_diff = abs_diff / mad_values\n",
    "    \n",
    "    return torch.sum(normalized_diff) / d_cont"
   ]
  },
  {
   "cell_type": "markdown",
   "metadata": {},
   "source": [
    "And then a quick test :)"
   ]
  },
  {
   "cell_type": "code",
   "execution_count": 10,
   "metadata": {},
   "outputs": [],
   "source": [
    "#| code-fold: true\n",
    "from scipy.stats import median_abs_deviation as mad_np\n",
    "\n",
    "data_np = np.random.rand(100, 5)\n",
    "data_torch = torch.tensor(data_np, dtype=torch.float)\n",
    "\n",
    "# Calculate MAD with both functions\n",
    "mad_scipy = mad_np(data_np, axis=0)\n",
    "mad_torch = median_abs_deviation(data_torch).numpy()\n",
    "assert np.allclose(mad_scipy, mad_torch, atol=1e-1)"
   ]
  },
  {
   "cell_type": "code",
   "execution_count": 11,
   "metadata": {},
   "outputs": [
    {
     "name": "stdout",
     "output_type": "stream",
     "text": [
      "tensor(0.6583, dtype=torch.float64, grad_fn=<DivBackward0>)\n"
     ]
    }
   ],
   "source": [
    "#| code-fold: true\n",
    "\n",
    "# Get the number of features\n",
    "num_features = X_train.shape[1]\n",
    "\n",
    "# Define a counterfactual and an original instance with the correct number of features\n",
    "c = np.random.rand(num_features)\n",
    "x = np.random.rand(num_features)\n",
    "\n",
    "# Compute the distance\n",
    "distance = dist_continuous(torch.tensor(c, requires_grad=True), torch.tensor(x), X_train)\n",
    "\n",
    "print(distance)"
   ]
  },
  {
   "cell_type": "markdown",
   "metadata": {},
   "source": [
    ":::{.callout-important}\n",
    "\n",
    "Authors also defined metrics and evaluations for **categorical features**, but I decided to skip them since this would give more details that could deviate from the main algorithm. If you want to check, please see the original paper [@dice]\n",
    ":::\n",
    "\n",
    "### Scaling features\n",
    "\n",
    "Typically, continuous features can take on a broad variety of values, while categorical features are often constrained to a one-hot binary representation. It's important to keep in mind that the scale of a feature can significantly influence its importance in our objective function. The authors provide to the users interactive interfaces where they can express their preferences for different features. **However**, as a reasonable starting point, we opt to transform all features to fall within the range of [0, 1].\n",
    "\n",
    "**Therefore, for implementation purposes, I'll be using StandardScaler for this example**"
   ]
  },
  {
   "cell_type": "markdown",
   "metadata": {},
   "source": [
    "### Enhancing Sparcity\n",
    "\n",
    "The loss function aims to minimize the distance between the input and the generated counterfactuals. However, an ideal counterfactual should change as few features as possible to maintain its sparsity considering the feasibility definition. To promote this sparsity, the authors implemented a post-processing step where they revert the values of continuous features back to their original values in $x$, proceeding greedily until the predicted class $f(c)$ changes. For this step, they consider all continuous features $c^j$ where the difference from $x^j$ is below a chosen threshold. Although the median absolute distance ($MAD$) may seem like an intuitive threshold, it can be rather large for features with high variance. Thus, for each feature, they choose the lower value between the $MAD$ and the 10th ($10\\%$) percentile of the absolute difference between non-identical values from the median."
   ]
  },
  {
   "cell_type": "code",
   "execution_count": 12,
   "metadata": {},
   "outputs": [],
   "source": [
    "import torch\n",
    "\n",
    "def post_hoc_adjustment(c_list, x, model, X_train):\n",
    "    \"\"\"\n",
    "    Post-hoc filtering to promote sparsity in the counterfactuals.\n",
    "\n",
    "    Parameters:\n",
    "    c_list (List[torch.Tensor]): A list of counterfactual examples.\n",
    "    x (torch.Tensor): The original input instance.\n",
    "    model: The machine learning model that we are trying to explain.\n",
    "    X_train (torch.Tensor): The training dataset.\n",
    "\n",
    "    Returns:\n",
    "    List[torch.Tensor]: The list of sparse counterfactuals.\n",
    "    \"\"\"\n",
    "\n",
    "    # Calculate MAD values for each feature\n",
    "    mad_values = median_abs_deviation(X_train)\n",
    "\n",
    "    # Calculate the 10th percentile of absolute differences from the median\n",
    "    p10_values = torch.kthvalue(torch.abs(X_train - torch.median(X_train, dim=0)[0]), int(0.1 * X_train.shape[0]), dim=0)[0]\n",
    "\n",
    "    # Choose the lower value between the MAD and the 10th percentile for each feature\n",
    "    thresholds = torch.minimum(mad_values, p10_values)\n",
    "\n",
    "    # Prepare a container for sparse counterfactuals\n",
    "    c_sparse_list = []\n",
    "\n",
    "    # Apply the process to each instance in c_list\n",
    "    for c in c_list:\n",
    "        # Calculate the absolute differences between the counterfactual and the original instance\n",
    "        abs_diff = torch.abs(c - x)\n",
    "\n",
    "        # Create a list of indices ordered by the absolute differences\n",
    "        ordered_indices = torch.argsort(abs_diff)\n",
    "\n",
    "        # Copy the counterfactual to avoid modifying the original\n",
    "        c_sparse = c.clone()\n",
    "\n",
    "        # Revert each feature until the predicted class changes\n",
    "        for i in ordered_indices[0]:\n",
    "            if abs_diff[0][i] < thresholds[i]:\n",
    "                c_sparse[i] = x[0][i]\n",
    "                if torch.argmax(model(c_sparse.unsqueeze(0))) != torch.argmax(model(c.unsqueeze(0))):\n",
    "                    break\n",
    "\n",
    "        c_sparse_list.append(c_sparse)\n",
    "\n",
    "    return c_sparse_list"
   ]
  },
  {
   "cell_type": "code",
   "execution_count": 13,
   "metadata": {},
   "outputs": [
    {
     "name": "stdout",
     "output_type": "stream",
     "text": [
      "For counterfactual 1\n",
      " Different elements between x and c: 20\n",
      " Different elements between x and c_sparse: 19\n"
     ]
    }
   ],
   "source": [
    "# Define an original instance and a set of counterfactuals with the correct number of features\n",
    "x = X_test[0].reshape(1, -1)\n",
    "# This is just to emulate a counterfactual, with a class different than x\n",
    "c = [X_test[1]]\n",
    "\n",
    "# Perform post-hoc filtering\n",
    "c_sparse = post_hoc_adjustment(c, x, model, X_train)\n",
    "for i in range(len(c_sparse)):\n",
    "    print(f\"For counterfactual {i+1}\")\n",
    "    print(f\" Different elements between x and c: {np.count_nonzero(np.not_equal(x, c[i]))}\")\n",
    "    print(f\" Different elements between x and c_sparse: {np.count_nonzero(np.not_equal(x, c_sparse[i]))}\")\n"
   ]
  },
  {
   "cell_type": "markdown",
   "metadata": {},
   "source": [
    "### Hyperparameters\n",
    "\n",
    "The process of generating counterfactuals happens after the machine learning model has been trained, and so, as suggested in [@CounterFactualWatcher], it's not strictly necessary to use the same hyperparameters for each original input. However, because hyperparameters can significantly impact the counterfactuals that are produced, it could be problematic to present users with counterfactuals that were generated using different hyperparameters. In this study, the authors opted for **$\\lambda_1 = 0.5$ and $\\lambda_2 = 1$.** "
   ]
  },
  {
   "cell_type": "markdown",
   "metadata": {},
   "source": [
    "### Getting real\n",
    "\n",
    "Let's use the same dummy dataset that I used for Anchors example. **There are a few differences, however**:\n",
    "- We will be creating a SimpleNeuralNetwork classifier and we will use it as our blackbox model\n",
    "- We will be using StandardScaler to scale our features"
   ]
  },
  {
   "cell_type": "code",
   "execution_count": 14,
   "metadata": {},
   "outputs": [
    {
     "data": {
      "text/html": [
       "<style>#sk-container-id-1 {color: black;background-color: white;}#sk-container-id-1 pre{padding: 0;}#sk-container-id-1 div.sk-toggleable {background-color: white;}#sk-container-id-1 label.sk-toggleable__label {cursor: pointer;display: block;width: 100%;margin-bottom: 0;padding: 0.3em;box-sizing: border-box;text-align: center;}#sk-container-id-1 label.sk-toggleable__label-arrow:before {content: \"▸\";float: left;margin-right: 0.25em;color: #696969;}#sk-container-id-1 label.sk-toggleable__label-arrow:hover:before {color: black;}#sk-container-id-1 div.sk-estimator:hover label.sk-toggleable__label-arrow:before {color: black;}#sk-container-id-1 div.sk-toggleable__content {max-height: 0;max-width: 0;overflow: hidden;text-align: left;background-color: #f0f8ff;}#sk-container-id-1 div.sk-toggleable__content pre {margin: 0.2em;color: black;border-radius: 0.25em;background-color: #f0f8ff;}#sk-container-id-1 input.sk-toggleable__control:checked~div.sk-toggleable__content {max-height: 200px;max-width: 100%;overflow: auto;}#sk-container-id-1 input.sk-toggleable__control:checked~label.sk-toggleable__label-arrow:before {content: \"▾\";}#sk-container-id-1 div.sk-estimator input.sk-toggleable__control:checked~label.sk-toggleable__label {background-color: #d4ebff;}#sk-container-id-1 div.sk-label input.sk-toggleable__control:checked~label.sk-toggleable__label {background-color: #d4ebff;}#sk-container-id-1 input.sk-hidden--visually {border: 0;clip: rect(1px 1px 1px 1px);clip: rect(1px, 1px, 1px, 1px);height: 1px;margin: -1px;overflow: hidden;padding: 0;position: absolute;width: 1px;}#sk-container-id-1 div.sk-estimator {font-family: monospace;background-color: #f0f8ff;border: 1px dotted black;border-radius: 0.25em;box-sizing: border-box;margin-bottom: 0.5em;}#sk-container-id-1 div.sk-estimator:hover {background-color: #d4ebff;}#sk-container-id-1 div.sk-parallel-item::after {content: \"\";width: 100%;border-bottom: 1px solid gray;flex-grow: 1;}#sk-container-id-1 div.sk-label:hover label.sk-toggleable__label {background-color: #d4ebff;}#sk-container-id-1 div.sk-serial::before {content: \"\";position: absolute;border-left: 1px solid gray;box-sizing: border-box;top: 0;bottom: 0;left: 50%;z-index: 0;}#sk-container-id-1 div.sk-serial {display: flex;flex-direction: column;align-items: center;background-color: white;padding-right: 0.2em;padding-left: 0.2em;position: relative;}#sk-container-id-1 div.sk-item {position: relative;z-index: 1;}#sk-container-id-1 div.sk-parallel {display: flex;align-items: stretch;justify-content: center;background-color: white;position: relative;}#sk-container-id-1 div.sk-item::before, #sk-container-id-1 div.sk-parallel-item::before {content: \"\";position: absolute;border-left: 1px solid gray;box-sizing: border-box;top: 0;bottom: 0;left: 50%;z-index: -1;}#sk-container-id-1 div.sk-parallel-item {display: flex;flex-direction: column;z-index: 1;position: relative;background-color: white;}#sk-container-id-1 div.sk-parallel-item:first-child::after {align-self: flex-end;width: 50%;}#sk-container-id-1 div.sk-parallel-item:last-child::after {align-self: flex-start;width: 50%;}#sk-container-id-1 div.sk-parallel-item:only-child::after {width: 0;}#sk-container-id-1 div.sk-dashed-wrapped {border: 1px dashed gray;margin: 0 0.4em 0.5em 0.4em;box-sizing: border-box;padding-bottom: 0.4em;background-color: white;}#sk-container-id-1 div.sk-label label {font-family: monospace;font-weight: bold;display: inline-block;line-height: 1.2em;}#sk-container-id-1 div.sk-label-container {text-align: center;}#sk-container-id-1 div.sk-container {/* jupyter's `normalize.less` sets `[hidden] { display: none; }` but bootstrap.min.css set `[hidden] { display: none !important; }` so we also need the `!important` here to be able to override the default hidden behavior on the sphinx rendered scikit-learn.org. See: https://github.com/scikit-learn/scikit-learn/issues/21755 */display: inline-block !important;position: relative;}#sk-container-id-1 div.sk-text-repr-fallback {display: none;}</style><div id=\"sk-container-id-1\" class=\"sk-top-container\"><div class=\"sk-text-repr-fallback\"><pre>StandardScaler()</pre><b>In a Jupyter environment, please rerun this cell to show the HTML representation or trust the notebook. <br />On GitHub, the HTML representation is unable to render, please try loading this page with nbviewer.org.</b></div><div class=\"sk-container\" hidden><div class=\"sk-item\"><div class=\"sk-estimator sk-toggleable\"><input class=\"sk-toggleable__control sk-hidden--visually\" id=\"sk-estimator-id-1\" type=\"checkbox\" checked><label for=\"sk-estimator-id-1\" class=\"sk-toggleable__label sk-toggleable__label-arrow\">StandardScaler</label><div class=\"sk-toggleable__content\"><pre>StandardScaler()</pre></div></div></div></div></div>"
      ],
      "text/plain": [
       "StandardScaler()"
      ]
     },
     "execution_count": 14,
     "metadata": {},
     "output_type": "execute_result"
    }
   ],
   "source": [
    "#| code-fold: true\n",
    "\n",
    "import numpy as np\n",
    "import matplotlib.pyplot as plt\n",
    "from sklearn.datasets import make_blobs\n",
    "from sklearn.preprocessing import StandardScaler\n",
    "from sklearn.model_selection import train_test_split\n",
    "\n",
    "class SimpleNet(nn.Module):\n",
    "    def __init__(self, input_size, hidden_size):\n",
    "        super(SimpleNet, self).__init__()\n",
    "        self.fc1 = nn.Linear(input_size, hidden_size)\n",
    "        self.relu = nn.ReLU()\n",
    "        self.fc2 = nn.Linear(hidden_size, 1)\n",
    "        self.sigmoid = nn.Sigmoid()\n",
    "    \n",
    "    def predict(self, x, threshold=0.5):\n",
    "        self.eval()\n",
    "        # Ensure x is a 2D tensor: add an extra dimension if x is a 1D tensor\n",
    "        if len(x.shape) == 1:\n",
    "            x = x.unsqueeze(0) \n",
    "        label_probability = self(x)\n",
    "        y = (label_probability > threshold).float()\n",
    "        return y\n",
    "\n",
    "    def forward(self, x):\n",
    "        x = self.fc1(x)\n",
    "        x = self.relu(x)\n",
    "        x = self.fc2(x)\n",
    "        x = self.sigmoid(x)\n",
    "        return x\n",
    "\n",
    "\n",
    "# Generate a 2D dataset with two classes\n",
    "X, y = make_blobs(n_samples=200, centers=2, random_state=42, cluster_std=2.0)\n",
    "X_train, X_test, y_train, y_test = train_test_split(X, y, test_size=0.3, random_state=42)\n",
    "\n",
    "std_features = StandardScaler()\n",
    "std_features.fit(X_train)"
   ]
  },
  {
   "cell_type": "markdown",
   "metadata": {},
   "source": [
    "And then train the network"
   ]
  },
  {
   "cell_type": "code",
   "execution_count": 15,
   "metadata": {},
   "outputs": [
    {
     "data": {
      "application/vnd.jupyter.widget-view+json": {
       "model_id": "2b6d79dc9de74a6ba33e0612a635738e",
       "version_major": 2,
       "version_minor": 0
      },
      "text/plain": [
       "Training Neural Net:   0%|          | 0/2000 [00:00<?, ?it/s]"
      ]
     },
     "metadata": {},
     "output_type": "display_data"
    },
    {
     "name": "stdout",
     "output_type": "stream",
     "text": [
      "epoch: 500, loss = 0.009603435173630714\n",
      "epoch: 1000, loss = 0.005159247666597366\n",
      "epoch: 1500, loss = 0.0036031161434948444\n",
      "epoch: 2000, loss = 0.0027885879389941692\n"
     ]
    }
   ],
   "source": [
    "#| code-fold: true\n",
    "\n",
    "import torch.optim as optim\n",
    "\n",
    "# Define network parameters\n",
    "input_size = X_train.shape[1]\n",
    "hidden_size = 5\n",
    "\n",
    "# Instantiate the network, loss function, and optimizer\n",
    "net = SimpleNet(input_size, hidden_size)\n",
    "criterion = nn.BCELoss()\n",
    "optimizer = optim.SGD(net.parameters(), lr=0.1)\n",
    "epochs = 2000\n",
    "for epoch in tqdm(range(epochs), desc=\"Training Neural Net\"):\n",
    "    net.train()\n",
    "    optimizer.zero_grad()\n",
    "    # Forward pass\n",
    "    y_pred = net(torch.from_numpy(std_features.transform(X_train).astype(np.float32)))\n",
    "    # Compute Loss\n",
    "    loss = criterion(y_pred, torch.from_numpy(y_train.reshape(-1, 1).astype(np.float32)))\n",
    "\n",
    "    # Backward pass and update\n",
    "    loss.backward()\n",
    "    optimizer.step()\n",
    "\n",
    "    # print progress\n",
    "    if (epoch+1) % 500 == 0:\n",
    "        print(f'epoch: {epoch+1}, loss = {loss.item()}')"
   ]
  },
  {
   "cell_type": "code",
   "execution_count": 16,
   "metadata": {},
   "outputs": [
    {
     "data": {
      "text/plain": [
       "1.0"
      ]
     },
     "execution_count": 16,
     "metadata": {},
     "output_type": "execute_result"
    }
   ],
   "source": [
    "from sklearn.metrics import accuracy_score\n",
    "predictions = net.predict(torch.from_numpy(std_features.transform(X_test).astype(np.float32))).numpy().reshape(-1)\n",
    "accuracy_score(y_test, predictions)"
   ]
  },
  {
   "attachments": {},
   "cell_type": "markdown",
   "metadata": {},
   "source": [
    "It was pretty easy to get a perfect model, which was expected. \n",
    "\n",
    "Then, now I want to explain a single instance from `test` set. Let's take the first element :)"
   ]
  },
  {
   "cell_type": "code",
   "execution_count": 17,
   "metadata": {},
   "outputs": [
    {
     "data": {
      "image/png": "[encoded data removed]",
      "text/plain": [
       "<Figure size 640x480 with 1 Axes>"
      ]
     },
     "metadata": {},
     "output_type": "display_data"
    }
   ],
   "source": [
    "instance_to_explain = np.where(X==X_test[0])[0][0]\n",
    "\n",
    "assert (X[instance_to_explain]==X_test[0]).all()\n",
    "\n",
    "def plot_dataset_with_instance(X, y, highlight_row=None, counterfactual_instance_list=None, title=\"Dataset\"):\n",
    "    # Assuming you have two classes 0 and 1\n",
    "    class_0 = X[y == 0]\n",
    "    class_1 = X[y == 1]\n",
    "    \n",
    "    # Create a scatter plot for each class\n",
    "    plt.scatter(class_0[:, 0], class_0[:, 1], c='blue', label='Class 0', alpha=0.3)\n",
    "    plt.scatter(class_1[:, 0], class_1[:, 1], c='red', label='Class 1', alpha=0.3)\n",
    "    \n",
    "    if highlight_row is not None:\n",
    "        plt.scatter(X[highlight_row, 0], X[highlight_row, 1], c='green', label='Instance', alpha=1, marker='o', edgecolors='k')\n",
    "    \n",
    "    if counterfactual_instance_list is not None and isinstance(counterfactual_instance_list, list):\n",
    "        for counterfactual_instance in counterfactual_instance_list:\n",
    "            plt.scatter(counterfactual_instance[0], counterfactual_instance[1], \n",
    "                        c='cyan', label='Counterfactual Instance', alpha=1, marker='o', edgecolors='k')\n",
    "        \n",
    "    plt.xlabel('Feature 1')\n",
    "    plt.ylabel('Feature 2')\n",
    "    plt.title(title)\n",
    "    \n",
    "    # Add a legend to the plot\n",
    "    plt.legend()\n",
    "    \n",
    "    plt.show()\n",
    "\n",
    "# Pass in the index of the row you want to highlight\n",
    "plot_dataset_with_instance(X, y, highlight_row=instance_to_explain)"
   ]
  },
  {
   "attachments": {},
   "cell_type": "markdown",
   "metadata": {},
   "source": [
    "Therefore, we want to find the _set of candidates_ that makes the **green** instance becomes **red**. For that, then let's use the `learn_counterfactuals` defined earlier with the following consierations:\n",
    "- $x=$ the same instance that we are trying to get the counterfactuals, transformed from **std_features**\n",
    "- $\\text{yloss}$ is the hinge_loss that we defined earlier\n",
    "- $\\text{distance\\_function}$ is the $\\text{distance\\_continuous}$ that was defined earlier\n",
    "- $\\text{lambda\\_1}=\\lambda_1=0.5$\n",
    "- $\\text{lambda\\_2}=\\lambda_2=2.0$\n",
    "- $\\text{model\\_predict}$ will be our `net` model which we just trained\n",
    "- $k=3$, so we are trying to learn a three counterfactual"
   ]
  },
  {
   "cell_type": "code",
   "execution_count": 96,
   "metadata": {},
   "outputs": [],
   "source": [
    "instance_to_explain = X_test[0]\n",
    "reference_instance = np.where(X==instance_to_explain)[0][0]\n",
    "x = torch.from_numpy(std_features.transform(instance_to_explain.reshape(1,-1)).astype(np.float32))\n",
    "lambda_1 = torch.tensor(0.5)\n",
    "lambda_2 = torch.tensor(2.0)\n",
    "number_of_counterfactuals = 3"
   ]
  },
  {
   "cell_type": "code",
   "execution_count": 104,
   "metadata": {},
   "outputs": [
    {
     "data": {
      "application/vnd.jupyter.widget-view+json": {
       "model_id": "b035b1d9772545e98aab3f6c14f9cddd",
       "version_major": 2,
       "version_minor": 0
      },
      "text/plain": [
       "Number of epochs:   0%|          | 0/50 [00:00<?, ?it/s]"
      ]
     },
     "metadata": {},
     "output_type": "display_data"
    },
    {
     "name": "stdout",
     "output_type": "stream",
     "text": [
      "Current loss: 0.3798478841781616\n"
     ]
    },
    {
     "name": "stdout",
     "output_type": "stream",
     "text": [
      "Current loss: 0.34645622968673706\n",
      "Current loss: 0.21382200717926025\n",
      "Current loss: 0.17475929856300354\n",
      "Loss converged at: 0.0007346868515014648, stop criteria reached\n"
     ]
    }
   ],
   "source": [
    "learnt_counterfactuals = learn_counterfactuals(\n",
    "    instance_to_analyze=x,\n",
    "    lambda_1=lambda_1,\n",
    "    lambda_2=lambda_2,\n",
    "    yloss=hinge_yloss,\n",
    "    distance_function=dist_continuous,\n",
    "    model_classifier=net,\n",
    "    k=number_of_counterfactuals,\n",
    "    training_dataset=torch.FloatTensor(X_train),\n",
    "    num_epochs=50, \n",
    "    learning_rate=0.05\n",
    ")"
   ]
  },
  {
   "cell_type": "code",
   "execution_count": 105,
   "metadata": {},
   "outputs": [],
   "source": [
    "counterfactual_instances_scaled_back = []\n",
    "for single_counterfactual in learnt_counterfactuals:\n",
    "    counterfactual_instances_scaled_back.append(std_features.inverse_transform(single_counterfactual.detach().numpy())[0])"
   ]
  },
  {
   "cell_type": "code",
   "execution_count": 106,
   "metadata": {},
   "outputs": [
    {
     "data": {
      "image/png": "[encoded data removed]",
      "text/plain": [
       "<Figure size 640x480 with 1 Axes>"
      ]
     },
     "metadata": {},
     "output_type": "display_data"
    }
   ],
   "source": [
    "plot_dataset_with_instance(X, y, highlight_row=reference_instance, counterfactual_instance_list=counterfactual_instances_scaled_back)"
   ]
  },
  {
   "cell_type": "markdown",
   "metadata": {},
   "source": [
    "## Performing Adjustment\n",
    "\n",
    "Perfect! We have learnt something :)\n",
    "\n",
    "\n",
    "TODO"
   ]
  },
  {
   "cell_type": "code",
   "execution_count": 22,
   "metadata": {},
   "outputs": [],
   "source": [
    "import torch\n",
    "\n",
    "def post_hoc_adjustment(c_list, x, model, X_train, std_features):\n",
    "    \"\"\"\n",
    "    Post-hoc filtering to promote sparsity in the counterfactuals.\n",
    "\n",
    "    Parameters:\n",
    "    c_list (List[torch.Tensor]): A list of counterfactual examples.\n",
    "    x (torch.Tensor): The original input instance.\n",
    "    model: The machine learning model that we are trying to explain.\n",
    "    X_train (torch.Tensor): The training dataset.\n",
    "\n",
    "    Returns:\n",
    "    List[torch.Tensor]: The list of sparse counterfactuals.\n",
    "    \"\"\"\n",
    "\n",
    "    # Calculate MAD values for each feature\n",
    "    mad_values = median_abs_deviation(X_train)\n",
    "\n",
    "    # Calculate the 10th percentile of absolute differences from the median\n",
    "    p10_values = torch.kthvalue(torch.abs(X_train - torch.median(X_train, dim=0)[0]), int(0.1 * X_train.shape[0]), dim=0)[0]\n",
    "\n",
    "    # Choose the lower value between the MAD and the 10th percentile for each feature\n",
    "    thresholds = torch.minimum(mad_values, p10_values)\n",
    "\n",
    "    # Prepare a container for sparse counterfactuals\n",
    "    c_sparse_list = []\n",
    "\n",
    "    # Apply the process to each instance in c_list\n",
    "    for c in c_list:\n",
    "        # Calculate the absolute differences between the counterfactual and the original instance\n",
    "        original_scale_c = std_features.inverse_transform(c.detach().numpy().reshape(1,-1)).astype(np.float32)\n",
    "        original_scale_x = std_features.inverse_transform(x.detach().numpy().reshape(1,-1)).astype(np.float32)\n",
    "        abs_diff = torch.abs(torch.from_numpy(original_scale_c) - torch.from_numpy(original_scale_x))\n",
    "\n",
    "        # Create a list of indices ordered by the absolute differences\n",
    "        ordered_indices = torch.argsort(abs_diff)\n",
    "\n",
    "        # Copy the counterfactual to avoid modifying the original\n",
    "        c_sparse = c.clone()\n",
    "\n",
    "        # Revert each feature until the predicted class changes\n",
    "        for i in ordered_indices[0]:\n",
    "            if abs_diff[0][i] < thresholds[i]:\n",
    "                c_sparse[i] = x[0][i]\n",
    "                if torch.argmax(model(c_sparse.unsqueeze(0))) != torch.argmax(model(c.unsqueeze(0))):\n",
    "                    break\n",
    "\n",
    "        c_sparse_list.append(c_sparse)\n",
    "\n",
    "    return c_sparse_list"
   ]
  },
  {
   "cell_type": "code",
   "execution_count": 23,
   "metadata": {},
   "outputs": [],
   "source": [
    "# Perform post-hoc filtering\n",
    "c_sparse = post_hoc_adjustment(\n",
    "    learnt_counterfactuals,\n",
    "      torch.tensor(std_features.transform(x).astype(np.float32)), \n",
    "      net, \n",
    "      torch.FloatTensor(X_train), \n",
    "      std_features\n",
    ")"
   ]
  },
  {
   "cell_type": "code",
   "execution_count": 24,
   "metadata": {},
   "outputs": [],
   "source": [
    "counterfactual_instances_scaled_back = []\n",
    "for single_counterfactual in learnt_counterfactuals:\n",
    "    counterfactual_instances_scaled_back.append(std_features.inverse_transform(single_counterfactual.detach().numpy())[0])"
   ]
  },
  {
   "cell_type": "code",
   "execution_count": 25,
   "metadata": {},
   "outputs": [
    {
     "data": {
      "text/plain": [
       "[array([-1.7097986,  3.1818411], dtype=float32)]"
      ]
     },
     "execution_count": 25,
     "metadata": {},
     "output_type": "execute_result"
    }
   ],
   "source": [
    "counterfactual_instances_scaled_back"
   ]
  },
  {
   "cell_type": "code",
   "execution_count": 26,
   "metadata": {},
   "outputs": [
    {
     "data": {
      "text/plain": [
       "array([-0.44719858, 10.87684637])"
      ]
     },
     "execution_count": 26,
     "metadata": {},
     "output_type": "execute_result"
    }
   ],
   "source": [
    "X[instance_to_explain]"
   ]
  },
  {
   "cell_type": "code",
   "execution_count": 27,
   "metadata": {},
   "outputs": [
    {
     "data": {
      "image/png": "[encoded data removed]",
      "text/plain": [
       "<Figure size 640x480 with 1 Axes>"
      ]
     },
     "metadata": {},
     "output_type": "display_data"
    }
   ],
   "source": [
    "plot_dataset_with_instance(X, y, highlight_row=instance_to_explain, counterfactual_instance_list=counterfactual_instances_scaled_back)"
   ]
  },
  {
   "cell_type": "markdown",
   "metadata": {},
   "source": [
    "# Conclusion"
   ]
  },
  {
   "cell_type": "markdown",
   "metadata": {},
   "source": []
  }
 ],
 "metadata": {
  "kernelspec": {
   "display_name": "Python 3 (ipykernel)",
   "language": "python",
   "name": "python3"
  },
  "language_info": {
   "codemirror_mode": {
    "name": "ipython",
    "version": 3
   },
   "file_extension": ".py",
   "mimetype": "text/x-python",
   "name": "python",
   "nbconvert_exporter": "python",
   "pygments_lexer": "ipython3",
   "version": "3.10.8"
  },
  "toc": {
   "base_numbering": 1,
   "nav_menu": {},
   "number_sections": true,
   "sideBar": true,
   "skip_h1_title": false,
   "title_cell": "Table of Contents",
   "title_sidebar": "Contents",
   "toc_cell": false,
   "toc_position": {},
   "toc_section_display": true,
   "toc_window_display": true
  }
 },
 "nbformat": 4,
 "nbformat_minor": 4
}

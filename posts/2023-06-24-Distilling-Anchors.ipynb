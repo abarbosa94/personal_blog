{
 "cells": [
  {
   "cell_type": "raw",
   "metadata": {},
   "source": [
    "---\n",
    "aliases:\n",
    "- /masters/knowledge-distill/xai/2023/06/24/Distilling-Anchors\n",
    "author: Andre Barbosa\n",
    "badges: true\n",
    "branch: main\n",
    "categories:\n",
    "- masters\n",
    "- knowledge-distill\n",
    "- xai\n",
    "date: '2023-06-24'\n",
    "description: An attempt to distill Anchors paper through code\n",
    "hide: false\n",
    "hide_binder_badge: false\n",
    "hide_colab_badge: false\n",
    "output-file: 2023-06-24-annotated-anchors.html\n",
    "search_exclude: false\n",
    "title: Distilling Anchors\n",
    "toc: true\n",
    "bibliography: references.bib\n",
    "\n",
    "---\n"
   ]
  },
  {
   "attachments": {},
   "cell_type": "markdown",
   "metadata": {},
   "source": [
    "# Distilling Anchors: High-Precision Model-Agnostic Explanations\n",
    "\n",
    "Inspired by [The Annotated Transformer](http://nlp.seas.harvard.edu/annotated-transformer/) blog post, which is an amazing educational resource, I decided to start this series of posts where I will try to drill down some papers that I've been reading :) The focus is to provide some dummy explanation, giving preference to use `code` and some cool vizualizations alongside with it!\n",
    "\n",
    "This is the first blog, where I'm going to explain in details the Anchor's paper [@anchors] [^1].\n",
    "\n",
    "[^1]: Depending on the effort that I will need to put on that I will decide if I would continue or not\n"
   ]
  },
  {
   "attachments": {},
   "cell_type": "markdown",
   "metadata": {},
   "source": [
    "![](images/annotated-anchor/anchor-introduction.jpeg \"Anchor paper definition\")"
   ]
  },
  {
   "attachments": {},
   "cell_type": "markdown",
   "metadata": {},
   "source": [
    "# Introduction\n",
    "\n",
    "As a starting point, the authors from the paper claim that having a high level of human precision is super important when it comes to truly understanding a model's prediction.\n",
    "\n",
    ":::{.callout-important}\n",
    "\n",
    "It is important to endorse that **human precision** means that fraction of time where a **human** confidently predict the outcome of a model (thats not the \n",
    "same as **precision from machine learning** jargon)\n",
    "\n",
    ":::\n",
    "\n"
   ]
  },
  {
   "attachments": {},
   "cell_type": "markdown",
   "metadata": {},
   "source": [
    "Building on that concept, anchors come into play. They offer high-precision rules that simplify the behavior of complex models, ensuring predictions with a high confidence level. Think of them as your trusty local guides (well, _anchors_), helping you navigate the complex lanes of your model’s prediction landscape.\n",
    "\n",
    "Local explanation methods like LIME [@LIMEPaper] are great, but they have their limitations. They represent the model's local behavior linearly, which may not always capture the full picture (especially when extrapolating for instances). Here's where anchors shine. \n",
    "\n",
    "In essence, an anchor explanation is a set of 'if-then' rules (so called **anchors**). These rules assure us that the explanation holds good locally, and the algorithm tries to extend its relevance to as large an area as possible. So, as long as the anchors are in place, the prediction (almost) remains consistent, irrespective of what's happening with other features not included in the anchor. In a nutshell, anchors keep the prediction ship steady, even when other features might be creating waves.\n",
    "\n",
    ":::{.callout-important}\n",
    "\n",
    "By the way, my attempt here will be to explain Anchors in the context of tabular data and, at most, with text data. Please keep in mind that it is a model-agnostic model, so it works for any type of input!\n",
    "\n",
    ":::"
   ]
  },
  {
   "attachments": {},
   "cell_type": "markdown",
   "metadata": {},
   "source": [
    "## Necessary Jargon\n",
    "\n",
    "I'll take the definitions from [Alibi's documentation](https://docs.seldon.io/projects/alibi/en/stable/methods/Anchors.html), which are concise and really well defined :)\n",
    "\n",
    "### Predicate\n",
    "\n",
    "> Represents an expression involving a single feature. Some examples of predicates for a tabular dataset having features such as `Age, Relationship, and Occupation` are:\n",
    "> - 28 < Age < 50\n",
    "> - Relationship = Husband\n",
    "> - Occupation = Blue-Collar\n",
    "\n",
    "### Rule\n",
    "\n",
    ">  A rule represents a set of predicates connected by the `AND` operator. Considering all the predicate examples above, we can construct the following rule:\n",
    "\n",
    ">  `28 < Age < 50 AND Relationship = Husband AND Occupation = Blue-Collar`\n",
    "\n",
    "Note that a rule selects/refers to a particular subpopulation from the given dataset.\n",
    "\n",
    "### Anchor\n",
    "\n",
    "> An anchor explanation is a **rule** that sufficiently _anchors_ the prediction locally – such that changes to the rest of the feature values of the instance do not matter [@anchors]\n",
    "\n",
    "### Precision\n",
    "\n",
    "> Precision represents the probability of receiving the same classification label of the explained input if we query the model on other instances that satisfy the anchor predicates. The expected precision range is the interval $[t,1]$, where $t$ is the user-specified precision threshold.\n",
    "\n",
    "> For example, if $t=0.95$ and we have two instances, $a$ and $b$, that contains the same anchor predicates, the probability that a given model will predict the same result for both is $0.95$.\n",
    "\n",
    "### Coverage\n",
    "\n",
    "> Coverage represents the proportion of the population which satisfy the anchor predicates. It is a positive number $\\leq 1$, where a value of corresponds $1$ to the empty anchor."
   ]
  },
  {
   "attachments": {},
   "cell_type": "markdown",
   "metadata": {},
   "source": [
    "## Going Formal\n",
    "\n",
    "Let's say we have a set of conditions or rules, which we'll call $A$. $A$ works on an easily understandable representation and it goes like this - if all conditions of $A$ are met for a specific instance (let's call it $x$), then $A(x)$ will return 1.\n",
    "\n",
    "In our earlier example, $x$ has these feature values: `Age is between 28 and 50`, `Relationship status is 'Husband'`, and `Occupation is 'Blue-Collar'`. If these are the conditions $A$ is checking for, in this case, $A(x)$ is $1$ because all the conditions are met.\n",
    "\n",
    "\n",
    "Now, suppose we have a complex model (we'll refer to it as a 'black box model'), which we'll denote as $f$, that takes input $X$ and generates output $Y$. Now, if we have a specific instance $x \\in X$, our objective with local model-agnostic interpretability is to make it easy for a user to understand why $f(x)$ - the prediction for the instance $x$ - is what it is. \n",
    "\n",
    "The fundamental assumption here is that even if the model is too intricate to explain in a brief manner globally, if we \"zoom in\" on individual predictions, the task of explaining becomes feasible. In order to achieve this, most model-agnostic techniques use a process called 'perturbation', modifying the instance $x$ following a specific \"perturbation distribution\" which we'll denote as $\\mathcal{D}$.\n",
    "\n",
    "Assuming the definition of $A$ from before, we denote as $\\mathcal{D}(\\cdot|A)$ the case when conditional distribution contains the rule $A$ being applied. $A$ is called an _anchor_ if it holds true for $x$ (i.e., $A(x)=1$) and is a sufficient condition for $f(x)$ with high probability (the $\\tau$ introduced before). If we sample an instance $z$ from $\\mathcal{D}(z|A)$ and it's predicted as Positive in the same way as $x$ (meaning $f(x) = f(z)$), then $A$ is an anchor.\n",
    "\n",
    "In other words:\n",
    "\n",
    "- Given we apply the anchor $A$ to $x$, the expected probability that $f(x) = f(z)$ under the distribution $\\mathcal{D}$ conditioned on $A$ is equal or greater then some threshold $\\tau$.\n",
    "\n",
    "Mathematically,\n",
    "\n",
    "$\\mathbb{E}_{\\mathcal{D}(z|A)}[\\mathbb{1}_{f(x)=f(z)}] \\geq \\tau,A(x)=1$"
   ]
  },
  {
   "attachments": {},
   "cell_type": "markdown",
   "metadata": {},
   "source": [
    "### Computing Anchors\n",
    "\n",
    " As stated before, an anchor $A$ is identified as a collection of feature predicates related to $x$, with a precision $prec(A)$ that is equal to or greater than $\\tau$. This precision can be defined as follows:\n",
    "\n",
    "$prec(A) = \\mathbb{E}_{D(z|A)}[\\mathbb{1}{f(x) = f(z)}]$\n",
    "\n",
    "The authors define precision in a probabilistic manner:\n",
    "\n",
    "> **An anchor meets the precision condition with a high level of certainty.**\n",
    "\n",
    "$P(prec(A) \\geq \\tau) \\geq 1 - \\delta$\n",
    "\n",
    "If there are multiple anchors that satisfy these criteria, preference is given to those that represent a larger portion of the input space, or in other words, those with the greatest **coverage**.\n",
    "\n",
    "The coverage of an anchor $A$, $\\text{cov}(A)$, is formally defined as the probability that it is applicable to samples derived from the distribution $D$. We can represent it as follows: \n",
    "\n",
    "$\\text{cov}(A) = \\mathbb{E}_{D(z)}[A(z)]$."
   ]
  },
  {
   "attachments": {},
   "cell_type": "markdown",
   "metadata": {},
   "source": [
    "#### Searching the set of Anchors\n",
    "\n",
    "\n",
    "Thus, our goal is to identify the set of anchors, $A$, that ensures maximum coverage. This can be achieved through the following combinatorial optimization problem:\n",
    "\n",
    "\\begin{align*}\n",
    "\\underset{A \\text{ s.t. } , P(prec(A) \\geq \\tau) \\geq 1 - \\delta}{\\text{max}}  \\text{cov}(A)\n",
    "\\end{align*}\n",
    "\n",
    "To accomplish this, we don't utilize a pre-existing dataset. Rather, we employ perturbation distributions along with a black box model, which are instrumental in estimating precision and coverage bounds under the distribution $\\mathcal{D}$. \n",
    "\n",
    "For a good (and trackable) exploration of the model's behavior within the perturbation space, we map the problem to a multi-armed bandit formulation."
   ]
  },
  {
   "attachments": {},
   "cell_type": "markdown",
   "metadata": {},
   "source": [
    "# Anchor Algorithm"
   ]
  },
  {
   "attachments": {},
   "cell_type": "markdown",
   "metadata": {},
   "source": [
    "## The Dataset\n",
    "\n",
    "For learning purposes, let's use a simple dataset generator from scikit-learn which I trained a `LGBMClassifier`"
   ]
  },
  {
   "cell_type": "code",
   "execution_count": 1,
   "metadata": {},
   "outputs": [
    {
     "data": {
      "text/html": [
       "<style>#sk-container-id-1 {color: black;background-color: white;}#sk-container-id-1 pre{padding: 0;}#sk-container-id-1 div.sk-toggleable {background-color: white;}#sk-container-id-1 label.sk-toggleable__label {cursor: pointer;display: block;width: 100%;margin-bottom: 0;padding: 0.3em;box-sizing: border-box;text-align: center;}#sk-container-id-1 label.sk-toggleable__label-arrow:before {content: \"▸\";float: left;margin-right: 0.25em;color: #696969;}#sk-container-id-1 label.sk-toggleable__label-arrow:hover:before {color: black;}#sk-container-id-1 div.sk-estimator:hover label.sk-toggleable__label-arrow:before {color: black;}#sk-container-id-1 div.sk-toggleable__content {max-height: 0;max-width: 0;overflow: hidden;text-align: left;background-color: #f0f8ff;}#sk-container-id-1 div.sk-toggleable__content pre {margin: 0.2em;color: black;border-radius: 0.25em;background-color: #f0f8ff;}#sk-container-id-1 input.sk-toggleable__control:checked~div.sk-toggleable__content {max-height: 200px;max-width: 100%;overflow: auto;}#sk-container-id-1 input.sk-toggleable__control:checked~label.sk-toggleable__label-arrow:before {content: \"▾\";}#sk-container-id-1 div.sk-estimator input.sk-toggleable__control:checked~label.sk-toggleable__label {background-color: #d4ebff;}#sk-container-id-1 div.sk-label input.sk-toggleable__control:checked~label.sk-toggleable__label {background-color: #d4ebff;}#sk-container-id-1 input.sk-hidden--visually {border: 0;clip: rect(1px 1px 1px 1px);clip: rect(1px, 1px, 1px, 1px);height: 1px;margin: -1px;overflow: hidden;padding: 0;position: absolute;width: 1px;}#sk-container-id-1 div.sk-estimator {font-family: monospace;background-color: #f0f8ff;border: 1px dotted black;border-radius: 0.25em;box-sizing: border-box;margin-bottom: 0.5em;}#sk-container-id-1 div.sk-estimator:hover {background-color: #d4ebff;}#sk-container-id-1 div.sk-parallel-item::after {content: \"\";width: 100%;border-bottom: 1px solid gray;flex-grow: 1;}#sk-container-id-1 div.sk-label:hover label.sk-toggleable__label {background-color: #d4ebff;}#sk-container-id-1 div.sk-serial::before {content: \"\";position: absolute;border-left: 1px solid gray;box-sizing: border-box;top: 0;bottom: 0;left: 50%;z-index: 0;}#sk-container-id-1 div.sk-serial {display: flex;flex-direction: column;align-items: center;background-color: white;padding-right: 0.2em;padding-left: 0.2em;position: relative;}#sk-container-id-1 div.sk-item {position: relative;z-index: 1;}#sk-container-id-1 div.sk-parallel {display: flex;align-items: stretch;justify-content: center;background-color: white;position: relative;}#sk-container-id-1 div.sk-item::before, #sk-container-id-1 div.sk-parallel-item::before {content: \"\";position: absolute;border-left: 1px solid gray;box-sizing: border-box;top: 0;bottom: 0;left: 50%;z-index: -1;}#sk-container-id-1 div.sk-parallel-item {display: flex;flex-direction: column;z-index: 1;position: relative;background-color: white;}#sk-container-id-1 div.sk-parallel-item:first-child::after {align-self: flex-end;width: 50%;}#sk-container-id-1 div.sk-parallel-item:last-child::after {align-self: flex-start;width: 50%;}#sk-container-id-1 div.sk-parallel-item:only-child::after {width: 0;}#sk-container-id-1 div.sk-dashed-wrapped {border: 1px dashed gray;margin: 0 0.4em 0.5em 0.4em;box-sizing: border-box;padding-bottom: 0.4em;background-color: white;}#sk-container-id-1 div.sk-label label {font-family: monospace;font-weight: bold;display: inline-block;line-height: 1.2em;}#sk-container-id-1 div.sk-label-container {text-align: center;}#sk-container-id-1 div.sk-container {/* jupyter's `normalize.less` sets `[hidden] { display: none; }` but bootstrap.min.css set `[hidden] { display: none !important; }` so we also need the `!important` here to be able to override the default hidden behavior on the sphinx rendered scikit-learn.org. See: https://github.com/scikit-learn/scikit-learn/issues/21755 */display: inline-block !important;position: relative;}#sk-container-id-1 div.sk-text-repr-fallback {display: none;}</style><div id=\"sk-container-id-1\" class=\"sk-top-container\"><div class=\"sk-text-repr-fallback\"><pre>LGBMClassifier(random_state=42)</pre><b>In a Jupyter environment, please rerun this cell to show the HTML representation or trust the notebook. <br />On GitHub, the HTML representation is unable to render, please try loading this page with nbviewer.org.</b></div><div class=\"sk-container\" hidden><div class=\"sk-item\"><div class=\"sk-estimator sk-toggleable\"><input class=\"sk-toggleable__control sk-hidden--visually\" id=\"sk-estimator-id-1\" type=\"checkbox\" checked><label for=\"sk-estimator-id-1\" class=\"sk-toggleable__label sk-toggleable__label-arrow\">LGBMClassifier</label><div class=\"sk-toggleable__content\"><pre>LGBMClassifier(random_state=42)</pre></div></div></div></div></div>"
      ],
      "text/plain": [
       "LGBMClassifier(random_state=42)"
      ]
     },
     "execution_count": 1,
     "metadata": {},
     "output_type": "execute_result"
    }
   ],
   "source": [
    "#| code-fold: true\n",
    "\n",
    "import numpy as np\n",
    "import matplotlib.pyplot as plt\n",
    "from sklearn.datasets import make_blobs\n",
    "from lightgbm import LGBMClassifier\n",
    "from sklearn.model_selection import train_test_split\n",
    "\n",
    "# Generate a 2D dataset with two classes\n",
    "np.random.seed(42)\n",
    "X, y = make_blobs(n_samples=200, centers=2, random_state=42, cluster_std=2.0)\n",
    "X_train, X_test, y_train, y_test = train_test_split(X, y, test_size=0.3, random_state=42)\n",
    "\n",
    "# Train the LightGBM classifier\n",
    "clf = LGBMClassifier(random_state=42)\n",
    "clf.fit(X_train, y_train)"
   ]
  },
  {
   "attachments": {},
   "cell_type": "markdown",
   "metadata": {},
   "source": [
    "Also, I want to explain a single instance from `test` set. Let's take the first element :)"
   ]
  },
  {
   "cell_type": "code",
   "execution_count": 2,
   "metadata": {},
   "outputs": [
    {
     "data": {
      "image/png": "[encoded data removed]",
      "text/plain": [
       "<Figure size 640x480 with 1 Axes>"
      ]
     },
     "metadata": {},
     "output_type": "display_data"
    }
   ],
   "source": [
    "#| label: fig-dummy-dataset\n",
    "#| fig-cap: \"Dummy dataset\"\n",
    "#| layout-ncol: 1\n",
    "#| code-fold: true\n",
    "\n",
    "instance_to_explain = np.where(X==X_test[0])[0][0]\n",
    "\n",
    "assert (X[instance_to_explain]==X_test[0]).all()\n",
    "\n",
    "def plot_dataset_with_instance(X, y, highlight_row=None, title=\"Dataset\"):\n",
    "    # Assuming you have two classes 0 and 1\n",
    "    class_0 = X[y == 0]\n",
    "    class_1 = X[y == 1]\n",
    "    \n",
    "    # Create a scatter plot for each class\n",
    "    plt.scatter(class_0[:, 0], class_0[:, 1], c='blue', label='Class 0', alpha=0.3)\n",
    "    plt.scatter(class_1[:, 0], class_1[:, 1], c='red', label='Class 1', alpha=0.3)\n",
    "    \n",
    "    if highlight_row is not None:\n",
    "        plt.scatter(X[highlight_row, 0], X[highlight_row, 1], c='green', label='Instance', alpha=1, marker='o', edgecolors='k')\n",
    "\n",
    "    plt.xlabel('Feature 1')\n",
    "    plt.ylabel('Feature 2')\n",
    "    plt.title(title)\n",
    "    \n",
    "    # Add a legend to the plot\n",
    "    plt.legend()\n",
    "    \n",
    "    plt.show()\n",
    "\n",
    "# Pass in the index of the row you want to highlight\n",
    "plot_dataset_with_instance(X, y, highlight_row=instance_to_explain)"
   ]
  },
  {
   "attachments": {},
   "cell_type": "markdown",
   "metadata": {},
   "source": [
    "Therefore, I want to provide an explaination through `Anchors` for the `green` point, which comes from the `test set`.\n",
    "\n",
    "In the paper, the authors separates the candidate generation from the Anchor algorithm itself. I think it is better to threat them altogether, then in other hands we can say that the whole algorithm is three fold:\n",
    "1. Candidate Generation\n",
    "2. Best candidate identification"
   ]
  },
  {
   "attachments": {},
   "cell_type": "markdown",
   "metadata": {},
   "source": [
    "## Identifying Candidates\n",
    "\n",
    "We start by creating an 'anchor' $A$, which we initially set up as an _empty rule_ that can apply to every instance. As we iterate through our process, we come up with new potential rules that expand $A$ by adding another feature predicate, denoted as $\\{a_i\\}$, to its definition. In other words, with each iteration, our set of potential rules looks like $\\{A \\wedge a_i, A \\wedge a_{i+1}, A \\wedge a_{i+2}, \\dots\\}$, each one just adding a new feature predicate to the last.\n",
    "\n",
    "Mathematically, the algorithm is defined as follows (taken from the paper):\n",
    "\n",
    "![Generate Anchor Candidates](images/annotated-anchor/generate_candidates.jpeg){#fig-anchor-algo1}\n"
   ]
  },
  {
   "attachments": {},
   "cell_type": "markdown",
   "metadata": {},
   "source": [
    "### Show me the code!\n",
    "\n",
    "Before that we have to define some intermediate functions that will help us to simplify things[^2]\n",
    "\n",
    "[^2]: ChatGPT helped me to create this whole. It is be being a true ally for writing my posts as well :)\n",
    "\n",
    "#### Creating Predicates\n",
    "\n",
    "Since anchors are a set of predicates, we need to define what a Predicate is"
   ]
  },
  {
   "cell_type": "code",
   "execution_count": 3,
   "metadata": {},
   "outputs": [],
   "source": [
    "#| code-fold: true\n",
    "import pandas as pd\n",
    "from collections import namedtuple\n",
    "import numpy as np\n",
    "from tqdm import tqdm\n",
    "\n",
    "class Predicate:\n",
    "    def __init__(self, feature, operator, threshold):\n",
    "        self.feature = feature\n",
    "        self.operator = operator\n",
    "        self.threshold = threshold\n",
    "\n",
    "    def __call__(self, x):\n",
    "        if self.operator == \"<=\":\n",
    "            return x[:, self.feature] <= self.threshold\n",
    "        elif self.operator == \">\":\n",
    "            return x[:, self.feature] > self.threshold\n",
    "\n",
    "    def __str__(self):\n",
    "        return f'x[{self.feature}] {self.operator} {self.threshold}'\n",
    "    \n",
    "def generate_predicates(X_train):\n",
    "    predicates = []\n",
    "    for feature in range(X_train.shape[1]):\n",
    "        for threshold in np.unique(X_train[:, feature]):\n",
    "            predicates.append(Predicate(feature, \"<=\", threshold))\n",
    "            predicates.append(Predicate(feature, \">\", threshold))\n",
    "    return predicates"
   ]
  },
  {
   "attachments": {},
   "cell_type": "markdown",
   "metadata": {},
   "source": [
    "\n",
    ":::{.callout-important}\n",
    "\n",
    "Please note that the `generate_predicates` method that I implemented uses **unique** values from dataset train to set the rules. I decided to keep it this way to simplify things and focus on what matters. However, if we considerer real implementations, we should create rules based on **Discretization** of continuous features to reduce the search space. Also, authors claim to have used a validation dataset for $\\mathcal{D}$ instead of the training set.\n",
    "\n",
    ":::"
   ]
  },
  {
   "cell_type": "code",
   "execution_count": 4,
   "metadata": {},
   "outputs": [],
   "source": [
    "#| code-fold: true\n",
    "\n",
    "def calculate_coverage(anchor, D):\n",
    "    D_sample = D.copy()\n",
    "    for predicate in anchor:\n",
    "        mask = predicate(D_sample)\n",
    "        indices_match_anchor = np.argwhere(mask == True).flatten()\n",
    "        D_sample = D_sample[indices_match_anchor]\n",
    "    # D_sample is equal to the number of instances where anchor rules hold\n",
    "    return len(D_sample)/len(D)\n",
    "\n",
    "def generate_cands(anchor_set, c, X_train):\n",
    "    A_r = []\n",
    "    predicates = generate_predicates(X_train)\n",
    "    if len(anchor_set) == 0:\n",
    "        # each predicate is a potential anchor in the first round\n",
    "        for predicate in predicates:\n",
    "            anchor = [predicate]\n",
    "            cov = calculate_coverage(anchor, X_train)\n",
    "            if cov > c:\n",
    "                A_r.append(anchor)\n",
    "    else:\n",
    "        for anchor in anchor_set:\n",
    "            anchor_features = {pred.feature for pred in anchor}\n",
    "            for predicate in predicates:\n",
    "                # Skip predicates already in the anchor\n",
    "                if predicate.feature in anchor_features:\n",
    "                    continue\n",
    "\n",
    "                # Create a new candidate anchor by adding the predicate\n",
    "                A_new = anchor.copy()\n",
    "                A_new.append(predicate)\n",
    "                \n",
    "                cov = calculate_coverage(anchor, X_train)\n",
    "                if cov > c:\n",
    "                    # If coverage is above threshold, add to results\n",
    "                    A_r.append(A_new)\n",
    "    print(f\"Found {len(A_r)} new anchors with coverage above {c}\")\n",
    "    return A_r"
   ]
  },
  {
   "attachments": {},
   "cell_type": "markdown",
   "metadata": {},
   "source": [
    "Lets see a quick and simple example where we want to explain the first element of test set and the desired coverage is 0.95\n",
    "\n",
    "\n",
    ":::{.callout-important}\n",
    "\n",
    "Also, realize that the way that we defined $\\mathcal{D}$ is specific for Tabular cases. For Images or Text these might difer. If you want to learn more, check [this](https://docs.seldon.io/projects/alibi/en/stable/methods/Anchors.html#Simple-sampling-strategies) out\n",
    "\n",
    ":::"
   ]
  },
  {
   "cell_type": "code",
   "execution_count": 5,
   "metadata": {},
   "outputs": [
    {
     "name": "stdout",
     "output_type": "stream",
     "text": [
      "Found 26 new anchors with coverage above 0.95\n"
     ]
    },
    {
     "data": {
      "text/plain": [
       "26"
      ]
     },
     "execution_count": 5,
     "metadata": {},
     "output_type": "execute_result"
    }
   ],
   "source": [
    "# Apply the function\n",
    "A = []  # start with an empty anchor\n",
    "c = 0.95  # coverage threshold, set as desired\n",
    "x = X_test[0]\n",
    "A_r = generate_cands(A, c, X_train)\n",
    "len(A_r)"
   ]
  },
  {
   "attachments": {},
   "cell_type": "markdown",
   "metadata": {},
   "source": [
    "For example, these are some candidates:"
   ]
  },
  {
   "cell_type": "code",
   "execution_count": 6,
   "metadata": {},
   "outputs": [
    {
     "name": "stdout",
     "output_type": "stream",
     "text": [
      "x[0] > -5.959033288078816\n",
      "x[0] <= 8.884191230253368\n",
      "x[1] <= 11.128530580636152\n"
     ]
    }
   ],
   "source": [
    "print(A_r[0][0])\n",
    "print(A_r[10][0])\n",
    "print(A_r[20][0])"
   ]
  },
  {
   "attachments": {},
   "cell_type": "markdown",
   "metadata": {},
   "source": [
    "## Selecting the Best Candidate\n",
    "\n",
    "\n",
    "In order to determine the most suitable candidate from a given pool, the authors approach the problem by formulating it as an exploration of multi-armed bandits [@Kaufmann13]. Here, each candidate $A$ is considered as an arm, and the hidden reward is represented by the true precision of $A$ on $\\mathcal{D}(\\cdot|A)$. Evaluating the expression $\\mathbb{1}_{f(x)=f(z)}$ on a sample drawn from $\\mathcal{D}(z|A)$ corresponds to pulling the arm $A$.\n",
    "\n",
    "The authors utilized a method called KL-LUCB (short for _Kullback-Leibler Lower Confidence Bound_), to determine the rule with the highest precision. However, explaining the intricacies of KL-LUCB in a brief blog post may be overly complex. Since our main focus is on Anchor's theory rather than Reinforcement Learning, I will simplify this part by employing an $\\epsilon$-greedy approach.\n",
    "\n",
    "### Differences into algorithm approaches\n",
    "\n",
    "I asked ChatGPT to define this one and considering it is correct, I thought it would worth to put it here:\n",
    "\n",
    "The **Kullback-Leibler Lower Confidence Bound** (KL-LUCB) and the **$\\epsilon\\text{-greedy}$** algorithms are two different approaches to the multi-armed bandit problem, which is a classical problem in probability theory and statistics that models the trade-off between exploration and exploitation in sequential decision-making.\n",
    "\n",
    "An $\\epsilon\\text{-greedy}$ algorithm is a simple approach where, with probability epsilon, the algorithm chooses an arm at random (exploration). With probability $1-\\epsilon$, it selects the arm with the highest estimated reward (exploitation). The value of epsilon is usually set to a small value, and it can be decreased over time to favor exploitation over exploration.\n",
    "\n",
    "On the other hand, the KL-LUCB calculates the confidence bounds (an **upper one** and a **lower one** on the expected rewards for each option using the Kullback-Leibler divergence, which quantifies the difference between two probability distributions. This allows KL-LUCB to make more informed decisions based on the uncertainty of the rewards.\n",
    "\n",
    "Therefore, for implementing the exploration vs. exploitation algorithm, we will not need to calculate the upper confidence and lower confidence bounds for precision, but rather we will always take the maximum precision _or_ a random one, depending on $\\epsilon$ value.\n",
    "\n",
    ":::{.callout-important}\n",
    "\n",
    "I'll not paste the pseudo code for the other algorithms (`BestCands` and `BeamSearch`) shown in paper since I implemented variations of them by using $\\epsilon \\text{- greedy}$ instead of KL-LUCB\n",
    "\n",
    ":::"
   ]
  },
  {
   "cell_type": "code",
   "execution_count": 7,
   "metadata": {},
   "outputs": [],
   "source": [
    "# Function to get a sample which satisfies the rules in an anchor\n",
    "def sample_conditionally(X, anchor):\n",
    "    D_sample = X.copy()\n",
    "    for predicate in anchor:\n",
    "        mask = predicate(D_sample)\n",
    "        # Use the mask to sample from the training set\n",
    "        D_sample = D_sample[mask]\n",
    "    #we are interested in obtaining samples from minimum size of 2\n",
    "    if len(D_sample)<=1: \n",
    "        return None\n",
    "    #D_sample will contain the instances where A(x)=1, where A is the anchor\n",
    "    # I decided to sample half of it, but we could use other values\n",
    "    rnd_indices = np.random.choice(len(D_sample), size=len(D_sample)//2)\n",
    "    D_sample = D_sample[rnd_indices]\n",
    "    return D_sample\n",
    "\n",
    "# Function to estimate the precision of an anchor\n",
    "def estimate_precision(clf, X_train, x, anchor):\n",
    "    fx = clf.predict([x])\n",
    "    z = sample_conditionally(X_train, anchor)\n",
    "    if z is None: # No sample satisfies the anchor\n",
    "        return 0.0\n",
    "    fz = clf.predict(z)\n",
    "    return (fz==fx).mean()\n",
    "\n",
    "# Main function to find the best candidate to add to the anchor\n",
    "def best_cand(anchor_candidates, X_train, x, clf, epsilon, num_samples=1000):\n",
    "    if len(anchor_candidates) == 0:\n",
    "        return None\n",
    "    num_arms = len(anchor_candidates)\n",
    "    Q = np.zeros(num_arms)\n",
    "    N = np.zeros(num_arms, dtype=int)\n",
    "    for _ in tqdm(range(num_samples), desc=\"Performing Epsilon Greedy approach\"):\n",
    "        if np.random.rand() < epsilon: # Explore\n",
    "            arm = np.random.randint(num_arms)\n",
    "        else: # Exploit\n",
    "            arm = np.argmax(Q)\n",
    "        anchor = anchor_candidates[arm]\n",
    "        reward = estimate_precision(clf, X_train, x, anchor)\n",
    "        N[arm] += 1\n",
    "        Q[arm] += (reward - Q[arm]) / N[arm]\n",
    "    return anchor_candidates[np.argmax(Q)]"
   ]
  },
  {
   "cell_type": "code",
   "execution_count": 8,
   "metadata": {},
   "outputs": [
    {
     "name": "stderr",
     "output_type": "stream",
     "text": [
      "Performing Epsilon Greedy approach: 100%|██████████| 1000/1000 [00:01<00:00, 655.34it/s]\n"
     ]
    }
   ],
   "source": [
    "best_anchor = best_cand(A_r, X_train, x, clf, 0.3, num_samples=1000)"
   ]
  },
  {
   "cell_type": "code",
   "execution_count": 9,
   "metadata": {},
   "outputs": [
    {
     "name": "stdout",
     "output_type": "stream",
     "text": [
      "Anchors final rule: x[0] <= 7.2508364505367595\n"
     ]
    }
   ],
   "source": [
    "#| code-fold: true\n",
    "\n",
    "print(\"Anchors final rule: \" + \"AND \".join(str(predicate) for predicate in best_anchor))"
   ]
  },
  {
   "attachments": {},
   "cell_type": "markdown",
   "metadata": {},
   "source": [
    "# Going greedy\n",
    "\n",
    "To get the complete version of the algorithm, we then implement a Greedy Search approach, based on the following parameters:\n",
    "- `blackbox_model` the blackbox model that we want to explain\n",
    "- `instance_to_explain` the instance that we want to analyze\n",
    "- `D` the perturbation sample dataset. `X_train` in our scenario\n",
    "- `epsilon`, the $\\epsilon$ related to $\\epsilon \\text{- greedy}$ approach\n",
    "- `tau` the desired precision that we want to achieve\n",
    "\n",
    "Therefore, greedly we will always take the best candidate anchor according to previous `best_cand` implementation if its precision is above our desired threshond $\\tau$ and then we **incrementaly** increases the predicates to the rule set of this given anchor until we explore the entire space\n",
    "\n",
    "The implementation can be find below:"
   ]
  },
  {
   "cell_type": "code",
   "execution_count": 10,
   "metadata": {},
   "outputs": [],
   "source": [
    "def greedy_search(blackbox_model, instance_to_explain, D, epsilon, tau, num_samples=1000):\n",
    "    a_star = None\n",
    "    anchor_candidates = []\n",
    "    best_cov = -1\n",
    "    while True:\n",
    "        anchor_candidates = generate_cands(anchor_candidates, best_cov, D)\n",
    "        best_candidate = best_cand(anchor_candidates, D, instance_to_explain, blackbox_model, epsilon, num_samples)\n",
    "        if len(anchor_candidates) == 0:\n",
    "            break\n",
    "        candidate_precision = estimate_precision(clf, X_train, x, best_candidate)\n",
    "        if  candidate_precision >= tau:\n",
    "            cov_current = calculate_coverage(best_candidate, D)\n",
    "            if cov_current > best_cov:\n",
    "                a_star = best_candidate\n",
    "                best_cov = cov_current\n",
    "    return a_star"
   ]
  },
  {
   "cell_type": "code",
   "execution_count": 11,
   "metadata": {},
   "outputs": [
    {
     "name": "stdout",
     "output_type": "stream",
     "text": [
      "Found 560 new anchors with coverage above -1\n"
     ]
    },
    {
     "name": "stderr",
     "output_type": "stream",
     "text": [
      "Performing Epsilon Greedy approach: 100%|██████████| 1000/1000 [00:01<00:00, 654.68it/s]\n"
     ]
    },
    {
     "name": "stdout",
     "output_type": "stream",
     "text": [
      "Found 150640 new anchors with coverage above 0.03571428571428571\n"
     ]
    },
    {
     "name": "stderr",
     "output_type": "stream",
     "text": [
      "Performing Epsilon Greedy approach: 100%|██████████| 1000/1000 [00:01<00:00, 557.12it/s]\n"
     ]
    },
    {
     "name": "stdout",
     "output_type": "stream",
     "text": [
      "Found 0 new anchors with coverage above 0.10714285714285714\n"
     ]
    }
   ],
   "source": [
    "final_anchor = greedy_search(blackbox_model=clf, instance_to_explain=x, D=X_train, epsilon=0.05, tau=0.95, num_samples=1000)"
   ]
  },
  {
   "cell_type": "code",
   "execution_count": 12,
   "metadata": {},
   "outputs": [
    {
     "name": "stdout",
     "output_type": "stream",
     "text": [
      "Anchors final rule: x[0] > -4.891804617458048AND x[1] > 10.040820994425033\n"
     ]
    }
   ],
   "source": [
    "#| echo: false\n",
    "\n",
    "print(\"Anchors final rule: \" + \"AND \".join(str(predicate) for predicate in final_anchor))"
   ]
  },
  {
   "cell_type": "code",
   "execution_count": 13,
   "metadata": {},
   "outputs": [
    {
     "name": "stdout",
     "output_type": "stream",
     "text": [
      "Anchor coverage: 0.10714285714285714\n",
      "Anchor precision: 1.0\n"
     ]
    }
   ],
   "source": [
    "#| echo: false\n",
    "\n",
    "print(f\"Anchor coverage: {calculate_coverage(final_anchor, X_train)}\")\n",
    "print(f\"Anchor precision: {estimate_precision(clf, X_train, x, final_anchor)}\")"
   ]
  },
  {
   "attachments": {},
   "cell_type": "markdown",
   "metadata": {},
   "source": [
    "As we can see, there is some issues by using a Greedy approach, which we will get into details in the next section"
   ]
  },
  {
   "attachments": {},
   "cell_type": "markdown",
   "metadata": {},
   "source": [
    "## Issues with Greedy Search\n",
    "\n",
    "As we can see, due to the greedy nature of the algorithm, it is impossible to search two different anchors \"at the same time\". At every time, it will select the _best_ candidate and incrementally augment it (so we can't backtrack, for example). Also, the greedy search does not consider coverage, so it is biased to return the shortest anchor that respects the precision $\\tau$ threshold.\n",
    "\n",
    "We can extend the greedy approach to address these issues so that **instead of taking the best candidate, we take the best $B$ ones**. Therefore, we turn a **greedy** search problem into **beam-search**. Given this set of **$B$** candidates, we search for the one with the highest coverage."
   ]
  },
  {
   "attachments": {},
   "cell_type": "markdown",
   "metadata": {},
   "source": [
    "# Beam Search"
   ]
  },
  {
   "cell_type": "code",
   "execution_count": 14,
   "metadata": {},
   "outputs": [],
   "source": [
    "#| code-fold: true\n",
    "\n",
    "def best_candidate_beam(anchor_candidates, X_train, x, clf, epsilon, num_samples=1000, B=10):\n",
    "    if len(anchor_candidates) == 0:\n",
    "        return None\n",
    "    if B > len(anchor_candidates):\n",
    "        return anchor_candidates\n",
    "    num_arms = len(anchor_candidates)\n",
    "    Q = np.zeros(num_arms)\n",
    "    N = np.zeros(num_arms, dtype=int)\n",
    "    for _ in tqdm(range(num_samples), desc=\"Performing Epsilon Greedy approach\"):\n",
    "        if np.random.rand() < epsilon: # Explore\n",
    "            arm = np.random.randint(num_arms)\n",
    "        else: # Exploit\n",
    "            arm = np.argmax(Q)\n",
    "        anchor = anchor_candidates[arm]\n",
    "        reward = estimate_precision(clf, X_train, x, anchor)\n",
    "        N[arm] += 1\n",
    "        Q[arm] += (reward - Q[arm]) / N[arm]\n",
    "    top_B_indices = np.argpartition(Q, -B)[-B:] # Take the best B candidates instead of the top one\n",
    "    top_B_anchors = [anchor_candidates[i] for i in top_B_indices]\n",
    "    return top_B_anchors"
   ]
  },
  {
   "cell_type": "code",
   "execution_count": 15,
   "metadata": {},
   "outputs": [],
   "source": [
    "#| code-fold: true\n",
    "\n",
    "def beam_search(blackbox_model, instance_to_explain, D, epsilon, B, tau, num_samples=1000):\n",
    "    a_star = None\n",
    "    anchor_candidates = []\n",
    "    best_cov = -1\n",
    "    while True:\n",
    "        anchor_candidates = generate_cands(anchor_candidates, best_cov, D)\n",
    "        best_candidates = best_candidate_beam(anchor_candidates, D, instance_to_explain, blackbox_model, epsilon, num_samples, B)\n",
    "        if len(anchor_candidates) == 0:\n",
    "            break\n",
    "        for candidate in best_candidates: #iterate over the beam search results\n",
    "            candidate_precision = estimate_precision(clf, X_train, x, candidate)\n",
    "            if candidate_precision >= tau:\n",
    "                cov_current = calculate_coverage(candidate, D)\n",
    "                if cov_current > best_cov:\n",
    "                    a_star = candidate\n",
    "                    best_cov = cov_current\n",
    "    return a_star"
   ]
  },
  {
   "cell_type": "code",
   "execution_count": 16,
   "metadata": {},
   "outputs": [
    {
     "name": "stdout",
     "output_type": "stream",
     "text": [
      "Found 560 new anchors with coverage above -1\n"
     ]
    },
    {
     "name": "stderr",
     "output_type": "stream",
     "text": [
      "Performing Epsilon Greedy approach:   4%|▍         | 38/1000 [00:00<00:10, 95.29it/s]"
     ]
    },
    {
     "name": "stderr",
     "output_type": "stream",
     "text": [
      "Performing Epsilon Greedy approach: 100%|██████████| 1000/1000 [00:02<00:00, 489.93it/s]\n"
     ]
    },
    {
     "name": "stdout",
     "output_type": "stream",
     "text": [
      "Found 85680 new anchors with coverage above 0.45\n"
     ]
    },
    {
     "name": "stderr",
     "output_type": "stream",
     "text": [
      "Performing Epsilon Greedy approach: 100%|██████████| 1000/1000 [00:01<00:00, 726.94it/s]\n"
     ]
    },
    {
     "name": "stdout",
     "output_type": "stream",
     "text": [
      "Found 0 new anchors with coverage above 0.45714285714285713\n"
     ]
    }
   ],
   "source": [
    "final_anchor = beam_search(blackbox_model=clf, instance_to_explain=x, D=X_train, epsilon=0.05, B=10, tau=0.95, num_samples=1000)"
   ]
  },
  {
   "cell_type": "code",
   "execution_count": 17,
   "metadata": {},
   "outputs": [
    {
     "name": "stdout",
     "output_type": "stream",
     "text": [
      "Anchors final rule: x[1] > 5.038647509945887AND x[0] <= 3.0942284071529578\n"
     ]
    }
   ],
   "source": [
    "print(\"Anchors final rule: \" + \"AND \".join(str(predicate) for predicate in final_anchor))"
   ]
  },
  {
   "cell_type": "code",
   "execution_count": 18,
   "metadata": {},
   "outputs": [
    {
     "data": {
      "text/plain": [
       "0.45714285714285713"
      ]
     },
     "execution_count": 18,
     "metadata": {},
     "output_type": "execute_result"
    }
   ],
   "source": [
    "calculate_coverage(final_anchor, X_train)"
   ]
  },
  {
   "cell_type": "code",
   "execution_count": 19,
   "metadata": {},
   "outputs": [
    {
     "data": {
      "text/plain": [
       "1.0"
      ]
     },
     "execution_count": 19,
     "metadata": {},
     "output_type": "execute_result"
    }
   ],
   "source": [
    "estimate_precision(clf, X_train, x, final_anchor)"
   ]
  },
  {
   "attachments": {},
   "cell_type": "markdown",
   "metadata": {},
   "source": [
    "This concludes the step-by-step simplified explanation of the Anchor algorithm. However, in a real world scenarios, we don't expect to implement such an algorithm from scratch (also, this is _reeeeeeeeally_ low performative due to maintaining that as didactic as possible). For that, we can rely on really awesome libraries, such as [alibi](https://github.com/SeldonIO/alibi)"
   ]
  },
  {
   "attachments": {},
   "cell_type": "markdown",
   "metadata": {},
   "source": [
    "# Show me the ~~real~~ example\n",
    "\n",
    "I could use a sample dataset for that, but this would increase the lenght of this post, but I will use a simple boilerplate code for alibi code such that it could be easily extensible for other datasets :)"
   ]
  },
  {
   "cell_type": "code",
   "execution_count": 20,
   "metadata": {},
   "outputs": [
    {
     "data": {
      "text/plain": [
       "AnchorTabular(meta={\n",
       "  'name': 'AnchorTabular',\n",
       "  'type': ['blackbox'],\n",
       "  'explanations': ['local'],\n",
       "  'params': {'seed': None, 'disc_perc': (25, 50, 75)},\n",
       "  'version': '0.9.3'}\n",
       ")"
      ]
     },
     "execution_count": 20,
     "metadata": {},
     "output_type": "execute_result"
    }
   ],
   "source": [
    "from alibi.explainers import AnchorTabular\n",
    "\n",
    "explainer = AnchorTabular(clf.predict, feature_names=clf.feature_name_)\n",
    "explainer.fit(X_train)"
   ]
  },
  {
   "attachments": {},
   "cell_type": "markdown",
   "metadata": {},
   "source": [
    "Some considerations:\n",
    "- `batch_size` is the size of sample size used, which was half of the dataset in our examples\n",
    "- `coverage_sample` is the number of times we repeat the sampling process for calculating coverage. We sampled just one for the entire dataset in our case"
   ]
  },
  {
   "cell_type": "code",
   "execution_count": 21,
   "metadata": {},
   "outputs": [
    {
     "name": "stdout",
     "output_type": "stream",
     "text": [
      "Anchors final rule: Column_1 > 4.35 AND Column_0 <= 1.94\n"
     ]
    }
   ],
   "source": [
    "explanation = explainer.explain(x, threshold=0.95, batch_size=100, beam_size=10)\n",
    "\n",
    "print(\"Anchors final rule: \" + \" AND \".join(str(predicate) for predicate in explanation.anchor))"
   ]
  },
  {
   "cell_type": "code",
   "execution_count": 22,
   "metadata": {},
   "outputs": [
    {
     "name": "stdout",
     "output_type": "stream",
     "text": [
      "Anchor precision: 0.9897959183673469\n",
      "Anchor coverage: 0.4639\n"
     ]
    }
   ],
   "source": [
    "#| code-fold: true\n",
    "\n",
    "print(f\"Anchor precision: {explanation.precision}\")\n",
    "print(f\"Anchor coverage: {explanation.coverage}\")"
   ]
  },
  {
   "cell_type": "markdown",
   "metadata": {},
   "source": [
    "## A real example\n",
    "\n",
    "Thanks to my [master's advisor](https://www.ime.usp.br/~ddm/), I got access to a simple dataset which could be used to mimic a real workd example. Let's take a look at it\n",
    "\n",
    "### The dataset\n",
    "\n",
    "The dataset is straightforward. We have the following columns:\n",
    "- region, which is the geographic region of Brazil\n",
    "- UF, which is the state/county \n",
    "- City, the city itself\n",
    "- latitude and longitude\n",
    "- temperature and altitude"
   ]
  },
  {
   "cell_type": "code",
   "execution_count": 23,
   "metadata": {},
   "outputs": [
    {
     "data": {
      "text/html": [
       "<div>\n",
       "<style scoped>\n",
       "    .dataframe tbody tr th:only-of-type {\n",
       "        vertical-align: middle;\n",
       "    }\n",
       "\n",
       "    .dataframe tbody tr th {\n",
       "        vertical-align: top;\n",
       "    }\n",
       "\n",
       "    .dataframe thead th {\n",
       "        text-align: right;\n",
       "    }\n",
       "</style>\n",
       "<table border=\"1\" class=\"dataframe\">\n",
       "  <thead>\n",
       "    <tr style=\"text-align: right;\">\n",
       "      <th></th>\n",
       "      <th>region</th>\n",
       "      <th>UF</th>\n",
       "      <th>city</th>\n",
       "      <th>lat</th>\n",
       "      <th>lon</th>\n",
       "      <th>temperature</th>\n",
       "      <th>altitude</th>\n",
       "    </tr>\n",
       "  </thead>\n",
       "  <tbody>\n",
       "    <tr>\n",
       "      <th>0</th>\n",
       "      <td>SE</td>\n",
       "      <td>RJ</td>\n",
       "      <td>CAMPOS DOS GOYTACAZES - SAO TOME</td>\n",
       "      <td>-22,04166666</td>\n",
       "      <td>-41,05166666</td>\n",
       "      <td>24.002001</td>\n",
       "      <td>-41.051667</td>\n",
       "    </tr>\n",
       "    <tr>\n",
       "      <th>1</th>\n",
       "      <td>CO</td>\n",
       "      <td>MT</td>\n",
       "      <td>SAO FELIX  DO ARAGUAIA</td>\n",
       "      <td>-11,61888888</td>\n",
       "      <td>-50,72777777</td>\n",
       "      <td>26.947313</td>\n",
       "      <td>-50.727778</td>\n",
       "    </tr>\n",
       "    <tr>\n",
       "      <th>2</th>\n",
       "      <td>N</td>\n",
       "      <td>PA</td>\n",
       "      <td>MARABA</td>\n",
       "      <td>-5,366447</td>\n",
       "      <td>-49,051166</td>\n",
       "      <td>26.410281</td>\n",
       "      <td>-49.051166</td>\n",
       "    </tr>\n",
       "    <tr>\n",
       "      <th>3</th>\n",
       "      <td>CO</td>\n",
       "      <td>GO</td>\n",
       "      <td>RIO VERDE</td>\n",
       "      <td>-17,785303</td>\n",
       "      <td>-50,964869</td>\n",
       "      <td>27.305761</td>\n",
       "      <td>-50.964869</td>\n",
       "    </tr>\n",
       "    <tr>\n",
       "      <th>4</th>\n",
       "      <td>S</td>\n",
       "      <td>RS</td>\n",
       "      <td>PORTO ALEGRE</td>\n",
       "      <td>-30,05361111</td>\n",
       "      <td>-51,17472221</td>\n",
       "      <td>19.983030</td>\n",
       "      <td>-51.174722</td>\n",
       "    </tr>\n",
       "  </tbody>\n",
       "</table>\n",
       "</div>"
      ],
      "text/plain": [
       "  region  UF                              city           lat           lon  \\\n",
       "0     SE  RJ  CAMPOS DOS GOYTACAZES - SAO TOME  -22,04166666  -41,05166666   \n",
       "1     CO  MT            SAO FELIX  DO ARAGUAIA  -11,61888888  -50,72777777   \n",
       "2      N  PA                            MARABA     -5,366447    -49,051166   \n",
       "3     CO  GO                         RIO VERDE    -17,785303    -50,964869   \n",
       "4      S  RS                      PORTO ALEGRE  -30,05361111  -51,17472221   \n",
       "\n",
       "   temperature   altitude  \n",
       "0    24.002001 -41.051667  \n",
       "1    26.947313 -50.727778  \n",
       "2    26.410281 -49.051166  \n",
       "3    27.305761 -50.964869  \n",
       "4    19.983030 -51.174722  "
      ]
     },
     "execution_count": 23,
     "metadata": {},
     "output_type": "execute_result"
    }
   ],
   "source": [
    "#|echo: false\n",
    "import pandas as pd\n",
    "import matplotlib.pyplot as plt\n",
    "\n",
    "df = pd.read_csv(\"data/temp-alt-2020.csv\", index_col=0).reset_index(drop=True)\n",
    "df.head()"
   ]
  },
  {
   "cell_type": "markdown",
   "metadata": {},
   "source": [
    "Then, let's try to predict a given region from Brazil. Using latitude, longitude, city and UF would be straightfoward (think about inference time, if you have the one of these four, it would be straitghfoward to compute the region). Therefore, let's use the `temperature` and `altitude` to predict the region :)"
   ]
  },
  {
   "cell_type": "code",
   "execution_count": 24,
   "metadata": {},
   "outputs": [
    {
     "data": {
      "image/png": "[encoded data removed]",
      "text/plain": [
       "<Figure size 640x480 with 1 Axes>"
      ]
     },
     "metadata": {},
     "output_type": "display_data"
    }
   ],
   "source": [
    "#| label: fig-geography-dataset\n",
    "#| fig-cap: \"Brazilian regions with Altitude and Temperature\"\n",
    "#| layout-ncol: 1\n",
    "#| code-fold: true\n",
    "\n",
    "colors = {\"SE\": 'red', \"CO\": 'blue', \"N\": 'green', \"S\": 'orange', \"NE\": 'purple'}\n",
    "FEATURE_COLUMNS = [\"altitude\", \"temperature\"]\n",
    "LABEL_COLUMN = \"region\"\n",
    "df = df[FEATURE_COLUMNS+[LABEL_COLUMN]]\n",
    "\n",
    "def plot_data(df):\n",
    "    for region in df[\"region\"].unique():\n",
    "        plt.scatter(df[df[\"region\"]==region][\"altitude\"],\n",
    "                    df[df[\"region\"]==region][\"temperature\"],\n",
    "                    color=colors[region],\n",
    "                    label=region)\n",
    "    plt.xlabel('Altitude')\n",
    "    plt.ylabel('Temperature')\n",
    "    plt.title('Altitude vs Temperature')\n",
    "    plt.legend(title='Region')\n",
    "    plt.grid(True)\n",
    "    plt.show()\n",
    "\n",
    "plot_data(df)"
   ]
  },
  {
   "cell_type": "markdown",
   "metadata": {},
   "source": [
    "There is some clear decision boundary for some classes, e.g. \n",
    "\n",
    "- if $\\text{tempertature} \\leq 20$ and $-60 \\leq \\text{altitude} \\leq -50$ then there is a high chance that we are talking about _South_ region (orange points).\n",
    "-  Similarly,  if $25 \\leq \\text{tempertature} \\leq 30$ and $-70 \\leq \\text{altitude} \\leq -60$ then there is a high chance that we are talking about _North_ region (green point). \n",
    "\n",
    "Let's see if given a blackbox model we can learn anchros with similar patterns :)"
   ]
  },
  {
   "cell_type": "code",
   "execution_count": 25,
   "metadata": {},
   "outputs": [
    {
     "name": "stdout",
     "output_type": "stream",
     "text": [
      "Cross-validation scores:  [0.8021978  0.85714286 0.7032967  0.76923077 0.84444444]\n",
      "Average cross-validation score:  0.7952625152625152\n"
     ]
    },
    {
     "data": {
      "image/png": "[encoded data removed]",
      "text/plain": [
       "<Figure size 640x480 with 2 Axes>"
      ]
     },
     "metadata": {},
     "output_type": "display_data"
    }
   ],
   "source": [
    "#| label: fig-confusion-matrix-real-dataset\n",
    "#| fig-cap: \"Test Confusion Matrix for Geography Example\"\n",
    "#| layout-ncol: 1\n",
    "#| code-fold: true\n",
    "\n",
    "from lightgbm import LGBMClassifier\n",
    "from sklearn.preprocessing import LabelEncoder\n",
    "from sklearn.model_selection import cross_val_score, StratifiedKFold, train_test_split\n",
    "from sklearn.metrics import ConfusionMatrixDisplay\n",
    "\n",
    "\n",
    "encoder = LabelEncoder()\n",
    "\n",
    "\n",
    "X_train, X_test, y_train, y_test = train_test_split(df[FEATURE_COLUMNS], df[LABEL_COLUMN], test_size=0.2, random_state=42)\n",
    "\n",
    "encoded_labels_train = encoder.fit_transform(y_train)\n",
    "encoded_labels_test = encoder.transform(y_test)\n",
    "# Train the LightGBM classifier\n",
    "\n",
    "clf = LGBMClassifier(random_state=42, class_weight=\"balanced\")\n",
    "# Cross validation\n",
    "cv = StratifiedKFold(n_splits=5)\n",
    "\n",
    "scores = cross_val_score(clf, X_train, y_train, cv=cv, scoring='accuracy')\n",
    "print('Cross-validation scores: ', scores)\n",
    "print('Average cross-validation score: ', scores.mean())\n",
    "clf.fit(X_train, y_train)\n",
    "disp = ConfusionMatrixDisplay.from_estimator(\n",
    "    clf, X=X_test,\n",
    "    y=y_test, \n",
    "    normalize='true', cmap=\"Blues\", xticks_rotation=\"horizontal\")\n",
    "_ = disp.ax_.set_title(\"Confusion Matrix for the Test Set\")"
   ]
  },
  {
   "cell_type": "markdown",
   "metadata": {},
   "source": [
    "We got pretty good results for the test set, specially regarding `NE`, `S` and `N` regions. Let's see some learnt Anchors for some examples."
   ]
  },
  {
   "cell_type": "code",
   "execution_count": 26,
   "metadata": {},
   "outputs": [
    {
     "data": {
      "text/plain": [
       "AnchorTabular(meta={\n",
       "  'name': 'AnchorTabular',\n",
       "  'type': ['blackbox'],\n",
       "  'explanations': ['local'],\n",
       "  'params': {\n",
       "              'seed': None,\n",
       "              'disc_perc': (5, 10, 15, 20, 25, 30, 35, 40, 45, 50, 55, 60, 65, 70, 75, 80, 85, 90, 95, 99)}\n",
       "            ,\n",
       "  'version': '0.9.3'}\n",
       ")"
      ]
     },
     "execution_count": 26,
     "metadata": {},
     "output_type": "execute_result"
    }
   ],
   "source": [
    "#| code-fold: true\n",
    "from alibi.explainers import AnchorTabular\n",
    "\n",
    "north_south_sample_idx = y_test[y_test.isin(['N','S'])].head().index.tolist()\n",
    "explainer = AnchorTabular(clf.predict, feature_names=clf.feature_name_)\n",
    "explainer.fit(X_train.values, disc_perc=tuple(sorted([i for i in range(5,100,5)]+[99])))"
   ]
  },
  {
   "cell_type": "markdown",
   "metadata": {},
   "source": [
    "\n",
    ":::{.callout-note}\n",
    "\n",
    "Due to feature distribution, I also changed the _percentile dicretizer_ to a higher value than default (that is (25, 50, 75))\n",
    "\n",
    ":::"
   ]
  },
  {
   "cell_type": "code",
   "execution_count": 27,
   "metadata": {},
   "outputs": [
    {
     "data": {
      "text/html": [
       "<div>\n",
       "<style scoped>\n",
       "    .dataframe tbody tr th:only-of-type {\n",
       "        vertical-align: middle;\n",
       "    }\n",
       "\n",
       "    .dataframe tbody tr th {\n",
       "        vertical-align: top;\n",
       "    }\n",
       "\n",
       "    .dataframe thead th {\n",
       "        text-align: right;\n",
       "    }\n",
       "</style>\n",
       "<table border=\"1\" class=\"dataframe\">\n",
       "  <thead>\n",
       "    <tr style=\"text-align: right;\">\n",
       "      <th></th>\n",
       "      <th>Test index</th>\n",
       "      <th>Model prediction</th>\n",
       "      <th>Anchor precision</th>\n",
       "      <th>Anchor rules</th>\n",
       "    </tr>\n",
       "  </thead>\n",
       "  <tbody>\n",
       "    <tr>\n",
       "      <th>0</th>\n",
       "      <td>208</td>\n",
       "      <td>[S]</td>\n",
       "      <td>0.954071</td>\n",
       "      <td>temperature &lt;= 22.48 AND -58.77 &lt; altitude &lt;= -48.81</td>\n",
       "    </tr>\n",
       "    <tr>\n",
       "      <th>1</th>\n",
       "      <td>420</td>\n",
       "      <td>[S]</td>\n",
       "      <td>0.984615</td>\n",
       "      <td>temperature &lt;= 20.84 AND altitude &lt;= -48.81</td>\n",
       "    </tr>\n",
       "    <tr>\n",
       "      <th>2</th>\n",
       "      <td>257</td>\n",
       "      <td>[N]</td>\n",
       "      <td>0.965649</td>\n",
       "      <td>temperature &gt; 26.31 AND altitude &lt;= -58.77</td>\n",
       "    </tr>\n",
       "    <tr>\n",
       "      <th>3</th>\n",
       "      <td>556</td>\n",
       "      <td>[N]</td>\n",
       "      <td>0.963087</td>\n",
       "      <td>26.00 &lt; temperature &lt;= 27.26 AND -50.36 &lt; altitude &lt;= -47.07</td>\n",
       "    </tr>\n",
       "    <tr>\n",
       "      <th>4</th>\n",
       "      <td>185</td>\n",
       "      <td>[N]</td>\n",
       "      <td>0.954198</td>\n",
       "      <td>26.00 &lt; temperature &lt;= 27.26 AND -50.36 &lt; altitude &lt;= -47.07</td>\n",
       "    </tr>\n",
       "  </tbody>\n",
       "</table>\n",
       "</div>"
      ],
      "text/plain": [
       "   Test index Model prediction  Anchor precision  \\\n",
       "0         208              [S]          0.954071   \n",
       "1         420              [S]          0.984615   \n",
       "2         257              [N]          0.965649   \n",
       "3         556              [N]          0.963087   \n",
       "4         185              [N]          0.954198   \n",
       "\n",
       "                                                   Anchor rules  \n",
       "0          temperature <= 22.48 AND -58.77 < altitude <= -48.81  \n",
       "1                   temperature <= 20.84 AND altitude <= -48.81  \n",
       "2                    temperature > 26.31 AND altitude <= -58.77  \n",
       "3  26.00 < temperature <= 27.26 AND -50.36 < altitude <= -47.07  \n",
       "4  26.00 < temperature <= 27.26 AND -50.36 < altitude <= -47.07  "
      ]
     },
     "execution_count": 27,
     "metadata": {},
     "output_type": "execute_result"
    }
   ],
   "source": [
    "#| code-fold: true\n",
    "\n",
    "pd.set_option('display.max_colwidth', 100)\n",
    "\n",
    "anchors = []\n",
    "for example_idx in north_south_sample_idx:\n",
    "    instance_to_analyze = X_test.loc[example_idx,:].values.copy()\n",
    "    explanation = explainer.explain(instance_to_analyze, threshold=0.95, batch_size=100, beam_size=10)\n",
    "    anchors_rule = \" AND \".join(str(predicate) for predicate in explanation.anchor)\n",
    "    anchor_instance = {\"Test index\": example_idx, \n",
    "                       \"Model prediction\": clf.predict(instance_to_analyze.reshape(1,-1)),\n",
    "                       \"Anchor precision\": explanation.precision,\n",
    "                        \"Anchor rules\": anchors_rule\n",
    "                       }\n",
    "    anchors.append(anchor_instance)\n",
    "pd.DataFrame(anchors)"
   ]
  },
  {
   "cell_type": "markdown",
   "metadata": {},
   "source": [
    "The predictions seems preety reasonable and if we check the @fig-geography-dataset image again, the learnt rules are somehow aligned with our initial hypothesis, which is cool :)"
   ]
  },
  {
   "attachments": {},
   "cell_type": "markdown",
   "metadata": {},
   "source": [
    "# Conclusion\n",
    "\n",
    "I hope that this blog post provided more insights about Anchors algorithms and its applications. For more explanations, please refer to main paper [@anchors] (especially if you want to learn about the KL-LUCB setting and its relationship with other definitions, such as the probabilistic meaning of precision and the $\\delta$ hyperparameter), [the alibi documentation](https://docs.seldon.io/projects/alibi/en/latest/methods/Anchors.html) provides really valuable resources and [Anchor's Chapter from Interpretable ML book](https://christophm.github.io/interpretable-ml-book/anchors.html)"
   ]
  }
 ],
 "metadata": {
  "kernelspec": {
   "display_name": "Python 3 (ipykernel)",
   "language": "python",
   "name": "python3"
  },
  "language_info": {
   "codemirror_mode": {
    "name": "ipython",
    "version": 3
   },
   "file_extension": ".py",
   "mimetype": "text/x-python",
   "name": "python",
   "nbconvert_exporter": "python",
   "pygments_lexer": "ipython3",
   "version": "3.10.8"
  },
  "toc": {
   "base_numbering": 1,
   "nav_menu": {},
   "number_sections": true,
   "sideBar": true,
   "skip_h1_title": false,
   "title_cell": "Table of Contents",
   "title_sidebar": "Contents",
   "toc_cell": false,
   "toc_position": {},
   "toc_section_display": true,
   "toc_window_display": true
  }
 },
 "nbformat": 4,
 "nbformat_minor": 4
}
